{
  "nbformat": 4,
  "nbformat_minor": 0,
  "metadata": {
    "colab": {
      "name": "Aula01 - Revisão Python.ipynb",
      "provenance": [],
      "include_colab_link": true
    },
    "kernelspec": {
      "name": "python3",
      "display_name": "Python 3"
    },
    "language_info": {
      "name": "python"
    }
  },
  "cells": [
    {
      "cell_type": "markdown",
      "metadata": {
        "id": "view-in-github",
        "colab_type": "text"
      },
      "source": [
        "<a href=\"https://colab.research.google.com/github/SouzaLayse/PDI_CC_UNIT/blob/main/Aula01_Revis%C3%A3o_Python.ipynb\" target=\"_parent\"><img src=\"https://colab.research.google.com/assets/colab-badge.svg\" alt=\"Open In Colab\"/></a>"
      ]
    },
    {
      "cell_type": "markdown",
      "metadata": {
        "id": "xnFIADNDJ39f"
      },
      "source": [
        "**UNIT - Curso de Computação**\n",
        "\n",
        "Processamento de Imagens de Computação Gráfica\n",
        "\n",
        "Profª. Layse Santos Souza\n",
        "\n"
      ]
    },
    {
      "cell_type": "markdown",
      "source": [
        "### **Aula 01 - Revisão Python Basics**"
      ],
      "metadata": {
        "id": "tphTI8PEZ1UQ"
      }
    },
    {
      "cell_type": "markdown",
      "metadata": {
        "id": "Xrl6kZB2KO-W"
      },
      "source": [
        "> Nosso primeiro comando será \"Olá mundo!!!\""
      ]
    },
    {
      "cell_type": "code",
      "metadata": {
        "colab": {
          "base_uri": "https://localhost:8080/"
        },
        "id": "D-Dkc4PqKVSc",
        "outputId": "ec4d7792-06b2-41f9-d921-2ba7ca960e5a"
      },
      "source": [
        "print('Olá mundo!!!')"
      ],
      "execution_count": null,
      "outputs": [
        {
          "output_type": "stream",
          "name": "stdout",
          "text": [
            "Olá mundo!!!\n"
          ]
        }
      ]
    },
    {
      "cell_type": "markdown",
      "metadata": {
        "id": "0DR5pmHQGrWx"
      },
      "source": [
        "> Agora vamos somar dois valores, por exemplo, 34 e 12 \n",
        "\n",
        "OBS.: sem colocar o comando print"
      ]
    },
    {
      "cell_type": "code",
      "metadata": {
        "colab": {
          "base_uri": "https://localhost:8080/"
        },
        "id": "OJCpWLubFnWP",
        "outputId": "1efc5d13-1ca7-421f-ffad-225200e23bdb"
      },
      "source": [
        "34+12"
      ],
      "execution_count": null,
      "outputs": [
        {
          "output_type": "execute_result",
          "data": {
            "text/plain": [
              "46"
            ]
          },
          "metadata": {},
          "execution_count": 1
        }
      ]
    },
    {
      "cell_type": "markdown",
      "metadata": {
        "id": "fsD8ZO4HG3DE"
      },
      "source": [
        "> Agora, vamos colocar duas variáveis (a = 10 e b = 21)\n",
        "1. Vamos pedir para exibir o valor de a e b, separadamente\n",
        "2. Vamos pedir a soma de a e b"
      ]
    },
    {
      "cell_type": "code",
      "metadata": {
        "colab": {
          "base_uri": "https://localhost:8080/"
        },
        "id": "Ve6sbnlOHdQY",
        "outputId": "0866ea2d-d747-4899-de00-4a933f9a6828"
      },
      "source": [
        "a = 10\n",
        "b = 21\n",
        "\n",
        "a"
      ],
      "execution_count": null,
      "outputs": [
        {
          "output_type": "execute_result",
          "data": {
            "text/plain": [
              "10"
            ]
          },
          "metadata": {},
          "execution_count": 11
        }
      ]
    },
    {
      "cell_type": "code",
      "metadata": {
        "colab": {
          "base_uri": "https://localhost:8080/"
        },
        "id": "03BaX1h1HhD0",
        "outputId": "24db3064-46df-4b4c-b9d2-816cd2cf463e"
      },
      "source": [
        "a = 10\n",
        "b = 21\n",
        "\n",
        "a + b"
      ],
      "execution_count": null,
      "outputs": [
        {
          "output_type": "execute_result",
          "data": {
            "text/plain": [
              "31"
            ]
          },
          "metadata": {},
          "execution_count": 12
        }
      ]
    },
    {
      "cell_type": "markdown",
      "metadata": {
        "id": "9WedMRNJMlpc"
      },
      "source": [
        "### VARIÁVEIS\n",
        "\n"
      ]
    },
    {
      "cell_type": "code",
      "metadata": {
        "colab": {
          "base_uri": "https://localhost:8080/"
        },
        "id": "Ox2Ahv9Mb2oD",
        "outputId": "b4fe2d67-5a84-4b29-dd66-47d5801e2a9b"
      },
      "source": [
        "a = 3\n",
        "\n",
        "a = 13\n",
        "\n",
        "a = 16\n",
        "\n",
        "a = 20\n",
        "\n",
        "a = a + 1\n",
        "\n",
        "a"
      ],
      "execution_count": null,
      "outputs": [
        {
          "output_type": "execute_result",
          "data": {
            "text/plain": [
              "21"
            ]
          },
          "metadata": {},
          "execution_count": 4
        }
      ]
    },
    {
      "cell_type": "code",
      "metadata": {
        "colab": {
          "base_uri": "https://localhost:8080/",
          "height": 35
        },
        "id": "797K6wt1c9vz",
        "outputId": "e0af4689-8e3f-4004-c996-c341b775682e"
      },
      "source": [
        "\"2\"+ '5'"
      ],
      "execution_count": null,
      "outputs": [
        {
          "output_type": "execute_result",
          "data": {
            "application/vnd.google.colaboratory.intrinsic+json": {
              "type": "string"
            },
            "text/plain": [
              "'25'"
            ]
          },
          "metadata": {},
          "execution_count": 5
        }
      ]
    },
    {
      "cell_type": "code",
      "metadata": {
        "colab": {
          "base_uri": "https://localhost:8080/"
        },
        "id": "_eCPDb5Cda4v",
        "outputId": "e1d1073f-1009-4f72-88c6-79ae2cb53208"
      },
      "source": [
        "14 > 2"
      ],
      "execution_count": null,
      "outputs": [
        {
          "output_type": "execute_result",
          "data": {
            "text/plain": [
              "True"
            ]
          },
          "metadata": {},
          "execution_count": 6
        }
      ]
    },
    {
      "cell_type": "code",
      "metadata": {
        "colab": {
          "base_uri": "https://localhost:8080/"
        },
        "id": "k4NDR903ddrh",
        "outputId": "33c3d35c-559a-455d-da48-71056f204f6f"
      },
      "source": [
        "14 < 2"
      ],
      "execution_count": null,
      "outputs": [
        {
          "output_type": "execute_result",
          "data": {
            "text/plain": [
              "False"
            ]
          },
          "metadata": {},
          "execution_count": 7
        }
      ]
    },
    {
      "cell_type": "markdown",
      "metadata": {
        "id": "msOKbAG4N5CQ"
      },
      "source": [
        "Amazenam valores\n",
        "\n",
        "Os tipos são:\n",
        "*   int -> armazena números inteiros\n",
        "*   float -> armazena números reais\n",
        "*   str -> listas de caracteres / strings\n",
        "*   bool -> booleanas\n",
        "\n"
      ]
    },
    {
      "cell_type": "code",
      "metadata": {
        "colab": {
          "base_uri": "https://localhost:8080/"
        },
        "id": "QoNOZGVYNI9-",
        "outputId": "7c4d3643-378f-471c-a74b-a380ee46c67e"
      },
      "source": [
        "a = 20\n",
        "print(a)"
      ],
      "execution_count": null,
      "outputs": [
        {
          "output_type": "stream",
          "name": "stdout",
          "text": [
            "20\n"
          ]
        }
      ]
    },
    {
      "cell_type": "code",
      "metadata": {
        "colab": {
          "base_uri": "https://localhost:8080/"
        },
        "id": "z-t2XsdZfIYO",
        "outputId": "d1539543-9c9d-4e04-ac85-d03e182330c9"
      },
      "source": [
        "print(type(a))"
      ],
      "execution_count": null,
      "outputs": [
        {
          "output_type": "stream",
          "name": "stdout",
          "text": [
            "<class 'int'>\n"
          ]
        }
      ]
    },
    {
      "cell_type": "code",
      "metadata": {
        "colab": {
          "base_uri": "https://localhost:8080/"
        },
        "id": "ErzM1LL2PHiX",
        "outputId": "4e1839c1-40d1-4b05-fd0d-f883206201c2"
      },
      "source": [
        "a = 'Oi'\n",
        "\n",
        "print(a)"
      ],
      "execution_count": null,
      "outputs": [
        {
          "output_type": "stream",
          "name": "stdout",
          "text": [
            "Oi\n"
          ]
        }
      ]
    },
    {
      "cell_type": "code",
      "metadata": {
        "colab": {
          "base_uri": "https://localhost:8080/"
        },
        "id": "tTf351JkfWhJ",
        "outputId": "d45f0ae7-84cc-4ef0-b035-89771b32d288"
      },
      "source": [
        "print(type(a))"
      ],
      "execution_count": null,
      "outputs": [
        {
          "output_type": "stream",
          "name": "stdout",
          "text": [
            "<class 'str'>\n"
          ]
        }
      ]
    },
    {
      "cell_type": "code",
      "metadata": {
        "colab": {
          "base_uri": "https://localhost:8080/"
        },
        "id": "rwHew119Pq7g",
        "outputId": "3beae854-b7db-40ce-9307-9daf313afa91"
      },
      "source": [
        "b = int(2.9)\n",
        "\n",
        "print(b)"
      ],
      "execution_count": null,
      "outputs": [
        {
          "output_type": "stream",
          "name": "stdout",
          "text": [
            "2\n"
          ]
        }
      ]
    },
    {
      "cell_type": "code",
      "metadata": {
        "colab": {
          "base_uri": "https://localhost:8080/"
        },
        "id": "pooz6WtfPwyc",
        "outputId": "7a2145ba-e5ef-4ee5-8652-9911403f4fe8"
      },
      "source": [
        "c = '38'\n",
        "c = int(c)\n",
        "\n",
        "print(c) "
      ],
      "execution_count": null,
      "outputs": [
        {
          "output_type": "stream",
          "name": "stdout",
          "text": [
            "38\n"
          ]
        }
      ]
    },
    {
      "cell_type": "code",
      "metadata": {
        "colab": {
          "base_uri": "https://localhost:8080/"
        },
        "id": "DeR6GoqQQBQ8",
        "outputId": "14c1af47-5422-405b-f8c5-f91a74c91639"
      },
      "source": [
        "c = c + 10\n",
        "\n",
        "print(c)"
      ],
      "execution_count": null,
      "outputs": [
        {
          "output_type": "execute_result",
          "data": {
            "text/plain": [
              "48"
            ]
          },
          "metadata": {},
          "execution_count": 21
        }
      ]
    },
    {
      "cell_type": "markdown",
      "metadata": {
        "id": "UA68yhxVQFpt"
      },
      "source": [
        "###STRINGS"
      ]
    },
    {
      "cell_type": "markdown",
      "metadata": {
        "id": "SdEik-kfQNRw"
      },
      "source": [
        "Sequência de caracteres simples\n",
        "\n",
        "* Converter strings em números -> int ()\n",
        "\n",
        "* Converter strings em números reais -> float ()\n",
        "\n",
        "* Converter números em strings -> str ()\n"
      ]
    },
    {
      "cell_type": "markdown",
      "metadata": {
        "id": "aXgvn_fHRJ6v"
      },
      "source": [
        "*   Concatenar strings (+)\n"
      ]
    },
    {
      "cell_type": "code",
      "metadata": {
        "colab": {
          "base_uri": "https://localhost:8080/"
        },
        "id": "2MiTGpS_RVoS",
        "outputId": "5669ed55-e53e-45ea-d0a7-e507c310d4af"
      },
      "source": [
        "print('Introducao' + 'Python')"
      ],
      "execution_count": null,
      "outputs": [
        {
          "output_type": "stream",
          "name": "stdout",
          "text": [
            "IntroducaoPython\n"
          ]
        }
      ]
    },
    {
      "cell_type": "code",
      "metadata": {
        "colab": {
          "base_uri": "https://localhost:8080/"
        },
        "id": "FG6bhqY6SI72",
        "outputId": "b8732a63-2e6f-416a-b500-ba93e35ff1f5"
      },
      "source": [
        "a = 'Introducao'\n",
        "b = 'Python'\n",
        "\n",
        "c = a + b\n",
        "\n",
        "print(c)"
      ],
      "execution_count": null,
      "outputs": [
        {
          "output_type": "stream",
          "name": "stdout",
          "text": [
            "IntroducaoPython\n"
          ]
        }
      ]
    },
    {
      "cell_type": "markdown",
      "metadata": {
        "id": "RCpvqyfDy5P3"
      },
      "source": [
        "* Repetir strings (*)"
      ]
    },
    {
      "cell_type": "code",
      "metadata": {
        "colab": {
          "base_uri": "https://localhost:8080/"
        },
        "id": "WYDK-Cn6y-h9",
        "outputId": "3d558d54-b0e9-4fb6-ce38-e32fbd926a06"
      },
      "source": [
        "a = 'oi'\n",
        "a = a * 5\n",
        "\n",
        "print(a)"
      ],
      "execution_count": null,
      "outputs": [
        {
          "output_type": "stream",
          "name": "stdout",
          "text": [
            "oioioioioi\n"
          ]
        }
      ]
    },
    {
      "cell_type": "markdown",
      "metadata": {
        "id": "3u-EGj9GSTSb"
      },
      "source": [
        "*Métodos para manipular strings:*\n",
        "\n",
        "\n"
      ]
    },
    {
      "cell_type": "markdown",
      "metadata": {
        "id": "rUoAKzGVSsXa"
      },
      "source": [
        "*   Retornar o tamanho da string -> len()\n",
        "\n",
        "\n"
      ]
    },
    {
      "cell_type": "code",
      "metadata": {
        "colab": {
          "base_uri": "https://localhost:8080/"
        },
        "id": "JN2resZ4S4cw",
        "outputId": "f120b91e-53e7-4128-a161-88b1f4da6b52"
      },
      "source": [
        "x = 'Introducao ao Python'\n",
        "len(x)"
      ],
      "execution_count": null,
      "outputs": [
        {
          "output_type": "execute_result",
          "data": {
            "text/plain": [
              "20"
            ]
          },
          "metadata": {},
          "execution_count": 25
        }
      ]
    },
    {
      "cell_type": "markdown",
      "metadata": {
        "id": "9DNS2WMYVGKG"
      },
      "source": [
        "*   Retornar a string com a primeira letra maiúscula -> capitalize()\n"
      ]
    },
    {
      "cell_type": "code",
      "metadata": {
        "colab": {
          "base_uri": "https://localhost:8080/",
          "height": 35
        },
        "id": "lzhHEImfVQ-W",
        "outputId": "41a90607-ca06-471a-e8e4-32fb8663e8cf"
      },
      "source": [
        "x = 'python'\n",
        "x.capitalize()"
      ],
      "execution_count": null,
      "outputs": [
        {
          "output_type": "execute_result",
          "data": {
            "application/vnd.google.colaboratory.intrinsic+json": {
              "type": "string"
            },
            "text/plain": [
              "'Python'"
            ]
          },
          "metadata": {},
          "execution_count": 28
        }
      ]
    },
    {
      "cell_type": "markdown",
      "metadata": {
        "id": "a9WoquRZi5uC"
      },
      "source": [
        "* Informar quantas vezes aparece um caractere (ou uma sequência de caracteres) na string -> count()\n",
        "\n",
        "\n"
      ]
    },
    {
      "cell_type": "code",
      "metadata": {
        "colab": {
          "base_uri": "https://localhost:8080/"
        },
        "id": "QQtUUBJDjD0M",
        "outputId": "9e98fe2d-ed8b-41ff-f7dd-f09c27fa0e92"
      },
      "source": [
        "b = 'Ecossistema'\n",
        "b.count('s')"
      ],
      "execution_count": null,
      "outputs": [
        {
          "output_type": "execute_result",
          "data": {
            "text/plain": [
              "3"
            ]
          },
          "metadata": {},
          "execution_count": 29
        }
      ]
    },
    {
      "cell_type": "markdown",
      "metadata": {
        "id": "PUmn6TxNmlS5"
      },
      "source": [
        "* Verificar se todas as letras de uma string são minúsculas -> islower()\n",
        "\n"
      ]
    },
    {
      "cell_type": "code",
      "metadata": {
        "colab": {
          "base_uri": "https://localhost:8080/"
        },
        "id": "pEtz57wjmyHt",
        "outputId": "389a082d-d597-4db0-e476-2d78603dd810"
      },
      "source": [
        "x = \"Ecossistema\"\n",
        "x.islower()"
      ],
      "execution_count": null,
      "outputs": [
        {
          "output_type": "execute_result",
          "data": {
            "text/plain": [
              "False"
            ]
          },
          "metadata": {},
          "execution_count": 30
        }
      ]
    },
    {
      "cell_type": "code",
      "metadata": {
        "colab": {
          "base_uri": "https://localhost:8080/"
        },
        "id": "mvtKiDmkm1j9",
        "outputId": "3084e60e-f19b-4965-9741-0fb25a872ef4"
      },
      "source": [
        "x = \"ecossistema\"\n",
        "x.islower()"
      ],
      "execution_count": null,
      "outputs": [
        {
          "output_type": "execute_result",
          "data": {
            "text/plain": [
              "True"
            ]
          },
          "metadata": {},
          "execution_count": 31
        }
      ]
    },
    {
      "cell_type": "code",
      "metadata": {
        "colab": {
          "base_uri": "https://localhost:8080/"
        },
        "id": "WIKe96p7m3zd",
        "outputId": "03982d54-c5f1-48b5-b291-c293479abee1"
      },
      "source": [
        "x = \"ECOSSISTEMA\"\n",
        "x.islower()"
      ],
      "execution_count": null,
      "outputs": [
        {
          "output_type": "execute_result",
          "data": {
            "text/plain": [
              "False"
            ]
          },
          "metadata": {},
          "execution_count": 32
        }
      ]
    },
    {
      "cell_type": "markdown",
      "metadata": {
        "id": "bR_0mt3Sm5QL"
      },
      "source": [
        "\n",
        "\n",
        "*   Verificar se todas as letras de uma string são maiúsculas ->  isupper()\n",
        "\n",
        "\n",
        "\n"
      ]
    },
    {
      "cell_type": "code",
      "metadata": {
        "colab": {
          "base_uri": "https://localhost:8080/"
        },
        "id": "to2uK6QqniOr",
        "outputId": "c595d603-af17-45d2-bcac-5bf2f57fe382"
      },
      "source": [
        "x = \"Ecossistema\"\n",
        "x.isupper()"
      ],
      "execution_count": null,
      "outputs": [
        {
          "output_type": "execute_result",
          "data": {
            "text/plain": [
              "False"
            ]
          },
          "metadata": {},
          "execution_count": 33
        }
      ]
    },
    {
      "cell_type": "code",
      "metadata": {
        "colab": {
          "base_uri": "https://localhost:8080/"
        },
        "id": "TYAu2s8dnkIP",
        "outputId": "68b6784e-046c-431b-8f77-750b70517294"
      },
      "source": [
        "x = \"ecossistema\"\n",
        "x.isupper()"
      ],
      "execution_count": null,
      "outputs": [
        {
          "output_type": "execute_result",
          "data": {
            "text/plain": [
              "False"
            ]
          },
          "metadata": {},
          "execution_count": 34
        }
      ]
    },
    {
      "cell_type": "code",
      "metadata": {
        "colab": {
          "base_uri": "https://localhost:8080/"
        },
        "id": "Mz9Kx3Dunl5g",
        "outputId": "5ac99bfb-5890-46e0-8fda-fd000d2a032a"
      },
      "source": [
        "x = \"ECOSSISTEMA\"\n",
        "x.isupper()"
      ],
      "execution_count": null,
      "outputs": [
        {
          "output_type": "execute_result",
          "data": {
            "text/plain": [
              "True"
            ]
          },
          "metadata": {},
          "execution_count": 35
        }
      ]
    },
    {
      "cell_type": "markdown",
      "metadata": {
        "id": "YH_JBEcqn64u"
      },
      "source": [
        "\n",
        "*    Retornar uma cópia da string trocando todas as letras para minúsculo -> lower()\n"
      ]
    },
    {
      "cell_type": "code",
      "metadata": {
        "colab": {
          "base_uri": "https://localhost:8080/",
          "height": 35
        },
        "id": "b0FwYEteoDp9",
        "outputId": "0b1b3926-a809-4551-dc4a-96cf9a24d9fe"
      },
      "source": [
        "x = \"Python\"\n",
        "x.lower()"
      ],
      "execution_count": null,
      "outputs": [
        {
          "output_type": "execute_result",
          "data": {
            "application/vnd.google.colaboratory.intrinsic+json": {
              "type": "string"
            },
            "text/plain": [
              "'python'"
            ]
          },
          "metadata": {},
          "execution_count": 36
        }
      ]
    },
    {
      "cell_type": "code",
      "metadata": {
        "colab": {
          "base_uri": "https://localhost:8080/",
          "height": 35
        },
        "id": "HUHGM39LoF0Q",
        "outputId": "8d2b324b-b0f1-47d5-eecc-9e824f5b99e2"
      },
      "source": [
        "x = \"python\"\n",
        "x.lower()"
      ],
      "execution_count": null,
      "outputs": [
        {
          "output_type": "execute_result",
          "data": {
            "application/vnd.google.colaboratory.intrinsic+json": {
              "type": "string"
            },
            "text/plain": [
              "'python'"
            ]
          },
          "metadata": {},
          "execution_count": 37
        }
      ]
    },
    {
      "cell_type": "code",
      "metadata": {
        "colab": {
          "base_uri": "https://localhost:8080/",
          "height": 35
        },
        "id": "pkuDBP7koHnE",
        "outputId": "11010a04-e955-43d3-d9c0-973781aa172d"
      },
      "source": [
        "x = \"PYTHON\"\n",
        "x.lower()"
      ],
      "execution_count": null,
      "outputs": [
        {
          "output_type": "execute_result",
          "data": {
            "application/vnd.google.colaboratory.intrinsic+json": {
              "type": "string"
            },
            "text/plain": [
              "'python'"
            ]
          },
          "metadata": {},
          "execution_count": 38
        }
      ]
    },
    {
      "cell_type": "markdown",
      "metadata": {
        "id": "_ZALVhIVoReq"
      },
      "source": [
        "\n",
        "*   Retornar uma cópia da string trocando todas as letras para maiúsculo -> upper()\n"
      ]
    },
    {
      "cell_type": "code",
      "metadata": {
        "colab": {
          "base_uri": "https://localhost:8080/",
          "height": 35
        },
        "id": "H2IYgZUJoaBF",
        "outputId": "7ee3edb3-0f21-4798-dd12-0263c332511d"
      },
      "source": [
        "x = \"Python\"\n",
        "x.upper()"
      ],
      "execution_count": null,
      "outputs": [
        {
          "output_type": "execute_result",
          "data": {
            "application/vnd.google.colaboratory.intrinsic+json": {
              "type": "string"
            },
            "text/plain": [
              "'PYTHON'"
            ]
          },
          "metadata": {},
          "execution_count": 39
        }
      ]
    },
    {
      "cell_type": "code",
      "metadata": {
        "colab": {
          "base_uri": "https://localhost:8080/",
          "height": 35
        },
        "id": "UlLVG3rAoeHU",
        "outputId": "9f1635f7-6095-4624-c38c-247a5d629b71"
      },
      "source": [
        "x = \"python\"\n",
        "x.upper()"
      ],
      "execution_count": null,
      "outputs": [
        {
          "output_type": "execute_result",
          "data": {
            "application/vnd.google.colaboratory.intrinsic+json": {
              "type": "string"
            },
            "text/plain": [
              "'PYTHON'"
            ]
          },
          "metadata": {},
          "execution_count": 40
        }
      ]
    },
    {
      "cell_type": "code",
      "metadata": {
        "colab": {
          "base_uri": "https://localhost:8080/",
          "height": 35
        },
        "id": "iwRU5_K8ogJW",
        "outputId": "9ab25627-6327-46bb-d6fc-b26f3a76e06b"
      },
      "source": [
        "x = \"PYTHON\"\n",
        "x.upper()"
      ],
      "execution_count": null,
      "outputs": [
        {
          "output_type": "execute_result",
          "data": {
            "application/vnd.google.colaboratory.intrinsic+json": {
              "type": "string"
            },
            "text/plain": [
              "'PYTHON'"
            ]
          },
          "metadata": {},
          "execution_count": 41
        }
      ]
    },
    {
      "cell_type": "markdown",
      "metadata": {
        "id": "Ngci-69Aolqq"
      },
      "source": [
        "\n",
        "*   Inverter o conteúdo da string (minúsculo / maiúsculo) -> swapcase()\n"
      ]
    },
    {
      "cell_type": "code",
      "metadata": {
        "colab": {
          "base_uri": "https://localhost:8080/",
          "height": 35
        },
        "id": "9EJGzMAjozP7",
        "outputId": "d77cceb3-4c94-4cb7-dd7b-5b7caca48155"
      },
      "source": [
        "x = \"PyThOn\"\n",
        "x.swapcase()"
      ],
      "execution_count": null,
      "outputs": [
        {
          "output_type": "execute_result",
          "data": {
            "application/vnd.google.colaboratory.intrinsic+json": {
              "type": "string"
            },
            "text/plain": [
              "'pYtHoN'"
            ]
          },
          "metadata": {},
          "execution_count": 42
        }
      ]
    },
    {
      "cell_type": "markdown",
      "metadata": {
        "id": "kMLAIV14o-K3"
      },
      "source": [
        " * Converter para maiúsculo todas as primeiras letras de cada palavra da string -> title()"
      ]
    },
    {
      "cell_type": "code",
      "metadata": {
        "colab": {
          "base_uri": "https://localhost:8080/",
          "height": 35
        },
        "id": "rIipjDjHpEZO",
        "outputId": "dd42cb71-35ac-4f24-a1eb-eb5f86076620"
      },
      "source": [
        "x = \"introducao ao python\"\n",
        "x.title()"
      ],
      "execution_count": null,
      "outputs": [
        {
          "output_type": "execute_result",
          "data": {
            "application/vnd.google.colaboratory.intrinsic+json": {
              "type": "string"
            },
            "text/plain": [
              "'Introducao Ao Python'"
            ]
          },
          "metadata": {},
          "execution_count": 43
        }
      ]
    },
    {
      "cell_type": "markdown",
      "metadata": {
        "id": "r9F0VWzvpRqH"
      },
      "source": [
        "* Transformar a string em uma lista, utilizando os espaços como referência -> split()"
      ]
    },
    {
      "cell_type": "code",
      "metadata": {
        "colab": {
          "base_uri": "https://localhost:8080/"
        },
        "id": "o8l-uuQ1pWoO",
        "outputId": "1f2a885a-7e97-4653-c1f8-e1ff4dfcb07f"
      },
      "source": [
        "x = \"introducao ao python\"\n",
        "x.split()"
      ],
      "execution_count": null,
      "outputs": [
        {
          "output_type": "execute_result",
          "data": {
            "text/plain": [
              "['introducao', 'ao', 'python']"
            ]
          },
          "metadata": {},
          "execution_count": 44
        }
      ]
    },
    {
      "cell_type": "markdown",
      "metadata": {
        "id": "cc9Ogiqqpj7N"
      },
      "source": [
        "* Substituir na string o trecho x pelo trecho y -> replace(x,y)\n",
        "\n"
      ]
    },
    {
      "cell_type": "code",
      "metadata": {
        "colab": {
          "base_uri": "https://localhost:8080/",
          "height": 35
        },
        "id": "Devza4hfpqAk",
        "outputId": "01061bff-e96a-4b29-8438-8f2a42074199"
      },
      "source": [
        "a = \"Introducao aula\"\n",
        "a.replace(\"aula\", \"Python\")"
      ],
      "execution_count": null,
      "outputs": [
        {
          "output_type": "execute_result",
          "data": {
            "application/vnd.google.colaboratory.intrinsic+json": {
              "type": "string"
            },
            "text/plain": [
              "'Introducao Python'"
            ]
          },
          "metadata": {},
          "execution_count": 45
        }
      ]
    },
    {
      "cell_type": "markdown",
      "metadata": {
        "id": "cVbe3lK3pzpB"
      },
      "source": [
        "* Retornar o índice da primeira ocorrência de um determinado caractere na string -> find ()\n",
        "\n",
        "*OBS.: Se o caractere não estiver na string retorna -1.*"
      ]
    },
    {
      "cell_type": "code",
      "metadata": {
        "colab": {
          "base_uri": "https://localhost:8080/"
        },
        "id": "2SBL6zkQqA-w",
        "outputId": "7f32a52d-f159-4d24-f1ba-e364be34b37e"
      },
      "source": [
        "x = \"Python\"\n",
        "x.find(\"o\")"
      ],
      "execution_count": null,
      "outputs": [
        {
          "output_type": "execute_result",
          "data": {
            "text/plain": [
              "4"
            ]
          },
          "metadata": {},
          "execution_count": 46
        }
      ]
    },
    {
      "cell_type": "code",
      "metadata": {
        "colab": {
          "base_uri": "https://localhost:8080/"
        },
        "id": "zmb-5bGsqDAQ",
        "outputId": "97e7bf52-a588-42fa-9b87-98a234702450"
      },
      "source": [
        "x = \"Python\"\n",
        "x.find(\"a\")"
      ],
      "execution_count": null,
      "outputs": [
        {
          "output_type": "execute_result",
          "data": {
            "text/plain": [
              "-1"
            ]
          },
          "metadata": {},
          "execution_count": 47
        }
      ]
    },
    {
      "cell_type": "markdown",
      "metadata": {
        "id": "HsjGu6U0qLfd"
      },
      "source": [
        "* Remover todos os espaços em branco da string -> strip()"
      ]
    },
    {
      "cell_type": "code",
      "metadata": {
        "colab": {
          "base_uri": "https://localhost:8080/",
          "height": 35
        },
        "id": "tBa4Wn_BqOsW",
        "outputId": "686774e4-6c0d-4989-9e07-bf2fbb6be908"
      },
      "source": [
        "x = \" Introducao ao Python \"\n",
        "x.strip()"
      ],
      "execution_count": null,
      "outputs": [
        {
          "output_type": "execute_result",
          "data": {
            "application/vnd.google.colaboratory.intrinsic+json": {
              "type": "string"
            },
            "text/plain": [
              "'Introducao ao Python'"
            ]
          },
          "metadata": {},
          "execution_count": 48
        }
      ]
    },
    {
      "cell_type": "markdown",
      "metadata": {
        "id": "K0FLATG-q-Kk"
      },
      "source": [
        "* Extrair apenas uma parte dos elementros da string utilizamos o limite inferior e o limite superior - 1. \n",
        "\n",
        "      String[limite_inferior : limite_superior - 1]\n"
      ]
    },
    {
      "cell_type": "code",
      "metadata": {
        "id": "61nq2njjrG-5"
      },
      "source": [
        "x = \"ecossistema\""
      ],
      "execution_count": null,
      "outputs": []
    },
    {
      "cell_type": "code",
      "metadata": {
        "colab": {
          "base_uri": "https://localhost:8080/",
          "height": 35
        },
        "id": "uX8gFhrkrXSo",
        "outputId": "f85510e7-f187-43c7-ad10-227482b773b3"
      },
      "source": [
        "x[1:5]"
      ],
      "execution_count": null,
      "outputs": [
        {
          "output_type": "execute_result",
          "data": {
            "application/vnd.google.colaboratory.intrinsic+json": {
              "type": "string"
            },
            "text/plain": [
              "'coss'"
            ]
          },
          "metadata": {},
          "execution_count": 50
        }
      ]
    },
    {
      "cell_type": "code",
      "metadata": {
        "colab": {
          "base_uri": "https://localhost:8080/",
          "height": 35
        },
        "id": "RMH_fHvurZnC",
        "outputId": "6005d40b-f19c-49ea-e7e9-6d744653f59d"
      },
      "source": [
        "x[4: ]"
      ],
      "execution_count": null,
      "outputs": [
        {
          "output_type": "execute_result",
          "data": {
            "application/vnd.google.colaboratory.intrinsic+json": {
              "type": "string"
            },
            "text/plain": [
              "'sistema'"
            ]
          },
          "metadata": {},
          "execution_count": 51
        }
      ]
    },
    {
      "cell_type": "code",
      "metadata": {
        "colab": {
          "base_uri": "https://localhost:8080/",
          "height": 35
        },
        "id": "6vDfCtjzrbXN",
        "outputId": "3198832a-9ace-4a60-da81-4fec782f023b"
      },
      "source": [
        "x[ :4]"
      ],
      "execution_count": null,
      "outputs": [
        {
          "output_type": "execute_result",
          "data": {
            "application/vnd.google.colaboratory.intrinsic+json": {
              "type": "string"
            },
            "text/plain": [
              "'ecos'"
            ]
          },
          "metadata": {},
          "execution_count": 52
        }
      ]
    },
    {
      "cell_type": "markdown",
      "metadata": {
        "id": "9C6TVXYRrmLa"
      },
      "source": [
        "###OPERADORES"
      ]
    },
    {
      "cell_type": "markdown",
      "metadata": {
        "id": "uUP6q7txrpPP"
      },
      "source": [
        "Os operadores mais comuns são:\n",
        "\n",
        "* Soma (+)\n",
        "* Subtração (-)\n",
        "* Multiplicação (*)\n",
        "* Divisão real (/)\n",
        "* Divisão inteira (//)\n",
        "* Resto da divisão (%) \n",
        "* Exponenciação (**)"
      ]
    },
    {
      "cell_type": "code",
      "metadata": {
        "colab": {
          "base_uri": "https://localhost:8080/"
        },
        "id": "HrvnT55rsM4V",
        "outputId": "a44f1df0-9f9a-46f2-bc2c-2d773c3d42d6"
      },
      "source": [
        "8 + 2 "
      ],
      "execution_count": null,
      "outputs": [
        {
          "output_type": "execute_result",
          "data": {
            "text/plain": [
              "10"
            ]
          },
          "metadata": {},
          "execution_count": 54
        }
      ]
    },
    {
      "cell_type": "code",
      "metadata": {
        "colab": {
          "base_uri": "https://localhost:8080/"
        },
        "id": "1gisThVTsQOY",
        "outputId": "664bfa2d-2edb-4f54-db9b-7034c4a6b10b"
      },
      "source": [
        "16 - 10"
      ],
      "execution_count": null,
      "outputs": [
        {
          "output_type": "execute_result",
          "data": {
            "text/plain": [
              "6"
            ]
          },
          "metadata": {},
          "execution_count": 55
        }
      ]
    },
    {
      "cell_type": "code",
      "metadata": {
        "colab": {
          "base_uri": "https://localhost:8080/"
        },
        "id": "ukcPeDrusSvu",
        "outputId": "abf86293-5e8e-400e-eee6-2fa9717faf4a"
      },
      "source": [
        "6 * 22"
      ],
      "execution_count": null,
      "outputs": [
        {
          "output_type": "execute_result",
          "data": {
            "text/plain": [
              "132"
            ]
          },
          "metadata": {},
          "execution_count": 56
        }
      ]
    },
    {
      "cell_type": "code",
      "metadata": {
        "colab": {
          "base_uri": "https://localhost:8080/"
        },
        "id": "Qw3I0jQ6sTtS",
        "outputId": "827cb312-de6c-444a-b5dc-0a7d7047eb9a"
      },
      "source": [
        "132/4"
      ],
      "execution_count": null,
      "outputs": [
        {
          "output_type": "execute_result",
          "data": {
            "text/plain": [
              "33.0"
            ]
          },
          "metadata": {},
          "execution_count": 57
        }
      ]
    },
    {
      "cell_type": "code",
      "metadata": {
        "colab": {
          "base_uri": "https://localhost:8080/"
        },
        "id": "H870KsrZsWqe",
        "outputId": "809b2a25-9743-4d16-a46f-442da076b6d5"
      },
      "source": [
        "132//4"
      ],
      "execution_count": null,
      "outputs": [
        {
          "output_type": "execute_result",
          "data": {
            "text/plain": [
              "33"
            ]
          },
          "metadata": {},
          "execution_count": 58
        }
      ]
    },
    {
      "cell_type": "code",
      "metadata": {
        "colab": {
          "base_uri": "https://localhost:8080/"
        },
        "id": "OyQhqKaasYEx",
        "outputId": "3fcde739-646c-437e-84bc-d976f5c30874"
      },
      "source": [
        "132%10"
      ],
      "execution_count": null,
      "outputs": [
        {
          "output_type": "execute_result",
          "data": {
            "text/plain": [
              "2"
            ]
          },
          "metadata": {},
          "execution_count": 59
        }
      ]
    },
    {
      "cell_type": "code",
      "metadata": {
        "colab": {
          "base_uri": "https://localhost:8080/"
        },
        "id": "_p8IgmGYsZCy",
        "outputId": "0bca2d72-d380-40aa-95d5-8b28f4d1fe21"
      },
      "source": [
        "2 ** 5"
      ],
      "execution_count": null,
      "outputs": [
        {
          "output_type": "execute_result",
          "data": {
            "text/plain": [
              "32"
            ]
          },
          "metadata": {},
          "execution_count": 60
        }
      ]
    },
    {
      "cell_type": "markdown",
      "metadata": {
        "id": "iwPaVpRFsuh8"
      },
      "source": [
        "*Abreviações de operações*"
      ]
    },
    {
      "cell_type": "code",
      "metadata": {
        "colab": {
          "base_uri": "https://localhost:8080/"
        },
        "id": "DBvwLtepsxKt",
        "outputId": "aa83c8bd-9a11-4619-c46a-855f6640bcae"
      },
      "source": [
        "x = 0\n",
        "x = x + 10\n",
        "\n",
        "print(x)"
      ],
      "execution_count": null,
      "outputs": [
        {
          "output_type": "execute_result",
          "data": {
            "text/plain": [
              "10"
            ]
          },
          "metadata": {},
          "execution_count": 61
        }
      ]
    },
    {
      "cell_type": "code",
      "metadata": {
        "colab": {
          "base_uri": "https://localhost:8080/"
        },
        "id": "L9NMZ4wDtNo1",
        "outputId": "a2565e74-d9ad-43d0-dafa-c075ea9d7cb0"
      },
      "source": [
        "x = 0\n",
        "x+=10\n",
        "\n",
        "print(x)"
      ],
      "execution_count": null,
      "outputs": [
        {
          "output_type": "stream",
          "name": "stdout",
          "text": [
            "10\n"
          ]
        }
      ]
    },
    {
      "cell_type": "markdown",
      "metadata": {
        "id": "t1wi8W1Rtv8X"
      },
      "source": [
        "###COMPARADORES"
      ]
    },
    {
      "cell_type": "markdown",
      "metadata": {
        "id": "f1jW6PWftyHb"
      },
      "source": [
        "Comparadores são operadores que recebem alguns valores ou algumas variáveis que retornam um valor booleano (true ou false):\n",
        "\n",
        "* Maior (>)\n",
        "* Menor (<)\n",
        "* Maior ou igual (>=)\n",
        "* Menor ou igual (<=)\n",
        "* Igual (==)\n",
        "* Diferente (!=)"
      ]
    },
    {
      "cell_type": "code",
      "metadata": {
        "colab": {
          "base_uri": "https://localhost:8080/"
        },
        "id": "hDLb7JdEuUIQ",
        "outputId": "9037b755-6d76-42d6-bb8b-9595a5128553"
      },
      "source": [
        "8 < 4"
      ],
      "execution_count": null,
      "outputs": [
        {
          "output_type": "execute_result",
          "data": {
            "text/plain": [
              "False"
            ]
          },
          "metadata": {},
          "execution_count": 63
        }
      ]
    },
    {
      "cell_type": "code",
      "metadata": {
        "colab": {
          "base_uri": "https://localhost:8080/"
        },
        "id": "kvAj5UzPuvlg",
        "outputId": "ec993c68-0c79-45b7-e61d-c5c0aab1c86c"
      },
      "source": [
        "4 <= 4"
      ],
      "execution_count": null,
      "outputs": [
        {
          "output_type": "execute_result",
          "data": {
            "text/plain": [
              "True"
            ]
          },
          "metadata": {},
          "execution_count": 64
        }
      ]
    },
    {
      "cell_type": "code",
      "metadata": {
        "colab": {
          "base_uri": "https://localhost:8080/"
        },
        "id": "Hon1M57yuzB6",
        "outputId": "6257df20-34dd-4a49-8be4-a72d1a2a7e42"
      },
      "source": [
        "15 == 15"
      ],
      "execution_count": null,
      "outputs": [
        {
          "output_type": "execute_result",
          "data": {
            "text/plain": [
              "True"
            ]
          },
          "metadata": {},
          "execution_count": 65
        }
      ]
    },
    {
      "cell_type": "code",
      "metadata": {
        "colab": {
          "base_uri": "https://localhost:8080/"
        },
        "id": "315_KkSCu0uH",
        "outputId": "3bfed282-9177-444b-82d8-e81a3243d5a0"
      },
      "source": [
        "3 != 3"
      ],
      "execution_count": null,
      "outputs": [
        {
          "output_type": "execute_result",
          "data": {
            "text/plain": [
              "False"
            ]
          },
          "metadata": {},
          "execution_count": 66
        }
      ]
    },
    {
      "cell_type": "markdown",
      "metadata": {
        "id": "zvnBm0OMvQQk"
      },
      "source": [
        "###OPERADORES LÓGICOS"
      ]
    },
    {
      "cell_type": "markdown",
      "metadata": {
        "id": "0-AhgvisvXkw"
      },
      "source": [
        "Formas de juntar variáveis booleanas. Os mais comuns são:\n",
        "\n",
        "* NOT\n",
        "* AND\n",
        "* OR"
      ]
    },
    {
      "cell_type": "markdown",
      "metadata": {
        "id": "7waNjdESvtuJ"
      },
      "source": [
        "*NOT* \n",
        "\n",
        "* Inverte o valor da variável\n",
        "\n"
      ]
    },
    {
      "cell_type": "code",
      "metadata": {
        "colab": {
          "base_uri": "https://localhost:8080/"
        },
        "id": "ENoz1TtLvf2C",
        "outputId": "5f7f2aff-6ac7-4427-af80-666315a15fd4"
      },
      "source": [
        "not 1 > 0"
      ],
      "execution_count": null,
      "outputs": [
        {
          "output_type": "execute_result",
          "data": {
            "text/plain": [
              "False"
            ]
          },
          "metadata": {},
          "execution_count": 67
        }
      ]
    },
    {
      "cell_type": "code",
      "metadata": {
        "colab": {
          "base_uri": "https://localhost:8080/"
        },
        "id": "8zriIIFVvz4t",
        "outputId": "f9815265-62ae-4f5d-dbf6-5f8a193c53fd"
      },
      "source": [
        "not 1 < 0"
      ],
      "execution_count": null,
      "outputs": [
        {
          "output_type": "execute_result",
          "data": {
            "text/plain": [
              "True"
            ]
          },
          "metadata": {},
          "execution_count": 68
        }
      ]
    },
    {
      "cell_type": "markdown",
      "metadata": {
        "id": "MK_sDsKwv4qO"
      },
      "source": [
        "*AND*\n",
        "\n",
        "*  Retorna ***True*** se ambas as entradas são verdadeiras \n",
        "*  Retorna ***False*** se uma das entradas ou as duas não forem verdadeiras"
      ]
    },
    {
      "cell_type": "code",
      "metadata": {
        "colab": {
          "base_uri": "https://localhost:8080/"
        },
        "id": "H2NKwhZYwTZw",
        "outputId": "34669bc1-4190-403d-eed2-48546e31e7cb"
      },
      "source": [
        "1 > 0 and 0 == 0"
      ],
      "execution_count": null,
      "outputs": [
        {
          "output_type": "execute_result",
          "data": {
            "text/plain": [
              "True"
            ]
          },
          "metadata": {},
          "execution_count": 69
        }
      ]
    },
    {
      "cell_type": "code",
      "metadata": {
        "colab": {
          "base_uri": "https://localhost:8080/"
        },
        "id": "nqbu7-cAwVkk",
        "outputId": "35be501d-eeda-4fd0-8eda-3514048b1695"
      },
      "source": [
        "1 > 0 and 0 != 0"
      ],
      "execution_count": null,
      "outputs": [
        {
          "output_type": "execute_result",
          "data": {
            "text/plain": [
              "False"
            ]
          },
          "metadata": {},
          "execution_count": 70
        }
      ]
    },
    {
      "cell_type": "code",
      "metadata": {
        "colab": {
          "base_uri": "https://localhost:8080/"
        },
        "id": "ZJHYg0DgwXG0",
        "outputId": "66167449-d663-4968-8aa6-1d5bf7f52a1e"
      },
      "source": [
        "1 < 0 and 0 == 0"
      ],
      "execution_count": null,
      "outputs": [
        {
          "output_type": "execute_result",
          "data": {
            "text/plain": [
              "False"
            ]
          },
          "metadata": {},
          "execution_count": 71
        }
      ]
    },
    {
      "cell_type": "code",
      "metadata": {
        "colab": {
          "base_uri": "https://localhost:8080/"
        },
        "id": "QuFae0vWwZCn",
        "outputId": "aa79a7a1-71f3-4feb-e562-a9a4a9a9874b"
      },
      "source": [
        "1 < 0 and 0 != 0 "
      ],
      "execution_count": null,
      "outputs": [
        {
          "output_type": "execute_result",
          "data": {
            "text/plain": [
              "False"
            ]
          },
          "metadata": {},
          "execution_count": 72
        }
      ]
    },
    {
      "cell_type": "markdown",
      "metadata": {
        "id": "nwePttquwdw-"
      },
      "source": [
        "*OR*\n",
        "\n",
        "* Retorna ***True*** se ao menos uma das entradas é verdadeira\n",
        "* Retorna ***False*** se as duas entradas forem falsas"
      ]
    },
    {
      "cell_type": "code",
      "metadata": {
        "colab": {
          "base_uri": "https://localhost:8080/"
        },
        "id": "b9GU4Ua6wuDZ",
        "outputId": "55269cc2-09a1-4cf3-b9dd-594497ac9f7f"
      },
      "source": [
        "1 > 0 or 0 == 0"
      ],
      "execution_count": null,
      "outputs": [
        {
          "output_type": "execute_result",
          "data": {
            "text/plain": [
              "True"
            ]
          },
          "metadata": {},
          "execution_count": 73
        }
      ]
    },
    {
      "cell_type": "code",
      "metadata": {
        "colab": {
          "base_uri": "https://localhost:8080/"
        },
        "id": "DhWxkHBzwzKb",
        "outputId": "da58be7b-26ea-4265-b515-839cbfd233c8"
      },
      "source": [
        "1 > 0 or 0 != 0"
      ],
      "execution_count": null,
      "outputs": [
        {
          "output_type": "execute_result",
          "data": {
            "text/plain": [
              "True"
            ]
          },
          "metadata": {},
          "execution_count": 74
        }
      ]
    },
    {
      "cell_type": "code",
      "metadata": {
        "colab": {
          "base_uri": "https://localhost:8080/"
        },
        "id": "zbNguq2Fw0oE",
        "outputId": "505eff4d-3742-44d2-8bad-166f0cf90f55"
      },
      "source": [
        "1 < 0 or 0 == 0"
      ],
      "execution_count": null,
      "outputs": [
        {
          "output_type": "execute_result",
          "data": {
            "text/plain": [
              "True"
            ]
          },
          "metadata": {},
          "execution_count": 75
        }
      ]
    },
    {
      "cell_type": "code",
      "metadata": {
        "colab": {
          "base_uri": "https://localhost:8080/"
        },
        "id": "FoWC0NRrw2Xo",
        "outputId": "7e094834-97c2-4772-8392-198feff24320"
      },
      "source": [
        "1 < 0 or 0 != 0"
      ],
      "execution_count": null,
      "outputs": [
        {
          "output_type": "execute_result",
          "data": {
            "text/plain": [
              "False"
            ]
          },
          "metadata": {},
          "execution_count": 76
        }
      ]
    },
    {
      "cell_type": "markdown",
      "metadata": {
        "id": "HPuJPPcAxEy7"
      },
      "source": [
        "###EXPRESSÕES LÓGICAS"
      ]
    },
    {
      "cell_type": "markdown",
      "metadata": {
        "id": "o9a4-NHDxIVL"
      },
      "source": [
        "* Mostram a relação entre os operadores\n",
        "* Tanto as variáveis quanto os operadores booleanos são utilizados para verificar uma condição\n",
        "* Nem sempre um operador é suficiente, pois podem ser necessários dois operadores para que determinada condição aconteça\n",
        "* A ordem para executar os operadores lógicos é ***NOT***, depois, ***AND*** e por último ***OR***"
      ]
    },
    {
      "cell_type": "code",
      "metadata": {
        "id": "peGloUEl0V1E",
        "colab": {
          "base_uri": "https://localhost:8080/"
        },
        "outputId": "420e067b-549a-4384-e1f1-6db016ac78de"
      },
      "source": [
        "a = 0\n",
        "b = 1\n",
        "\n",
        "not (a != b)\n"
      ],
      "execution_count": null,
      "outputs": [
        {
          "output_type": "execute_result",
          "data": {
            "text/plain": [
              "False"
            ]
          },
          "metadata": {},
          "execution_count": 79
        }
      ]
    },
    {
      "cell_type": "markdown",
      "metadata": {
        "id": "kFn9K4HWN_3k"
      },
      "source": [
        "###IMPRESSÃO"
      ]
    },
    {
      "cell_type": "markdown",
      "metadata": {
        "id": "4ojEmlfYOD2E"
      },
      "source": [
        "Serve para mostrar algo na tela, por exemplo:\n",
        "\n",
        "*  Respostas de um problema, perguntas ao usuário ou qualquer outra coisa que deseja que apareça na tela\n",
        "\n"
      ]
    },
    {
      "cell_type": "code",
      "metadata": {
        "colab": {
          "base_uri": "https://localhost:8080/"
        },
        "id": "y4bO8PjYP8Vt",
        "outputId": "75cf3cbb-4dbf-46eb-90ed-07246e983362"
      },
      "source": [
        "print (\"Olá!\")"
      ],
      "execution_count": null,
      "outputs": [
        {
          "output_type": "stream",
          "name": "stdout",
          "text": [
            "Olá!\n"
          ]
        }
      ]
    },
    {
      "cell_type": "code",
      "metadata": {
        "colab": {
          "base_uri": "https://localhost:8080/"
        },
        "id": "Dhvow5g7W_ng",
        "outputId": "6edbb53d-336e-49e2-be7a-8d6ff080e5cb"
      },
      "source": [
        "x = 5\n",
        "print(x)"
      ],
      "execution_count": null,
      "outputs": [
        {
          "output_type": "stream",
          "name": "stdout",
          "text": [
            "5\n"
          ]
        }
      ]
    },
    {
      "cell_type": "code",
      "metadata": {
        "colab": {
          "base_uri": "https://localhost:8080/"
        },
        "id": "7KTzhgYoXDRS",
        "outputId": "8bc4b5a9-053f-4587-81a5-aaa7a787333e"
      },
      "source": [
        "palavra = \"Boa noite!\"\n",
        "print(palavra)"
      ],
      "execution_count": null,
      "outputs": [
        {
          "output_type": "stream",
          "name": "stdout",
          "text": [
            "Boa noite!\n"
          ]
        }
      ]
    },
    {
      "cell_type": "code",
      "metadata": {
        "colab": {
          "base_uri": "https://localhost:8080/"
        },
        "id": "6GYOuyeBXIG-",
        "outputId": "58d67a88-e46b-40a9-8ae9-687159af3701"
      },
      "source": [
        "nome = \"Ana\"\n",
        "print(\"Meu nome é\", nome)"
      ],
      "execution_count": null,
      "outputs": [
        {
          "output_type": "stream",
          "name": "stdout",
          "text": [
            "Meu nome é Ana\n"
          ]
        }
      ]
    },
    {
      "cell_type": "code",
      "metadata": {
        "colab": {
          "base_uri": "https://localhost:8080/"
        },
        "id": "-pk42kOZXLod",
        "outputId": "5b8fae42-57be-48e2-bc81-e77b8f4a1381"
      },
      "source": [
        "print (\"Meu nome é\", nome, \"e gosto de dizer\", palavra)"
      ],
      "execution_count": null,
      "outputs": [
        {
          "output_type": "stream",
          "name": "stdout",
          "text": [
            "Meu nome é Ana e gosto de dizer Boa noite!\n"
          ]
        }
      ]
    },
    {
      "cell_type": "markdown",
      "metadata": {
        "id": "EaPSmQ3GQe8z"
      },
      "source": [
        "Para quebrar linhas -> \\n "
      ]
    },
    {
      "cell_type": "code",
      "metadata": {
        "colab": {
          "base_uri": "https://localhost:8080/"
        },
        "id": "zvuocK36Xman",
        "outputId": "2a49b568-887f-439f-8b39-f5aa064bcfe6"
      },
      "source": [
        "print(\"O que você gosta de comer? \\n Doces!\")"
      ],
      "execution_count": null,
      "outputs": [
        {
          "output_type": "stream",
          "name": "stdout",
          "text": [
            "O que você gosta de comer? \n",
            " Doces!\n"
          ]
        }
      ]
    },
    {
      "cell_type": "markdown",
      "metadata": {
        "id": "lWnIvjCXYlK-"
      },
      "source": [
        "###ENTRADA DE DADOS"
      ]
    },
    {
      "cell_type": "markdown",
      "metadata": {
        "id": "jCXL_XiAYn18"
      },
      "source": [
        "Utilizada para receber qualquer dado fornecido pelo usuário\n",
        "\n",
        "* Comando input () sempre retorna valores string"
      ]
    },
    {
      "cell_type": "code",
      "metadata": {
        "colab": {
          "base_uri": "https://localhost:8080/"
        },
        "id": "AHXwmcqwYz-V",
        "outputId": "168324e1-8ff1-4c37-80f5-17682933f20b"
      },
      "source": [
        "nome = input(\"Informe seu nome: \")\n",
        "print(nome)\n"
      ],
      "execution_count": null,
      "outputs": [
        {
          "output_type": "stream",
          "name": "stdout",
          "text": [
            "Informe seu nome: Ana\n",
            "Ana\n"
          ]
        }
      ]
    },
    {
      "cell_type": "markdown",
      "metadata": {
        "id": "iRU7H2ZcjWz0"
      },
      "source": [
        "* Comando int (input ()) para retornar valores inteiros"
      ]
    },
    {
      "cell_type": "code",
      "metadata": {
        "colab": {
          "base_uri": "https://localhost:8080/"
        },
        "id": "PvGCeOKwjdT2",
        "outputId": "b086c2c0-623a-4540-b603-e4f90cd2a56d"
      },
      "source": [
        "idade = int (input (\"Digite sua idade: \"))\n",
        "\n",
        "print(idade)\n",
        "print(type (idade))\n"
      ],
      "execution_count": null,
      "outputs": [
        {
          "output_type": "stream",
          "name": "stdout",
          "text": [
            "Digite sua idade: 26\n",
            "26\n",
            "<class 'int'>\n"
          ]
        }
      ]
    },
    {
      "cell_type": "markdown",
      "metadata": {
        "id": "SlM5Z7EIkIfl"
      },
      "source": [
        "* Comando float (input ()) para retornar valores float"
      ]
    },
    {
      "cell_type": "code",
      "metadata": {
        "colab": {
          "base_uri": "https://localhost:8080/"
        },
        "id": "VaVL2OmIkKym",
        "outputId": "dd00dca7-ba14-4abb-8c06-c731579646bc"
      },
      "source": [
        "altura = float (input (\"Informe sua altura: \"))\n",
        "\n",
        "print(altura)\n",
        "print(type (altura))"
      ],
      "execution_count": null,
      "outputs": [
        {
          "output_type": "stream",
          "name": "stdout",
          "text": [
            "Informe sua altura: 1.72\n",
            "1.72\n",
            "<class 'float'>\n"
          ]
        }
      ]
    },
    {
      "cell_type": "markdown",
      "metadata": {
        "id": "AMMz42qSZdho"
      },
      "source": [
        "###LISTAS"
      ]
    },
    {
      "cell_type": "markdown",
      "metadata": {
        "id": "4hmypMCgZg-E"
      },
      "source": [
        "Um conjunto de valores ou variáveis, onde cada valor é identificado por meio de um índice, ou seja, uma estrutura sequencial indexada.\n",
        "\n",
        "* Pode conter variáveis de tipos diferentes, ou também outras listas\n",
        "\n",
        "* Servem para organizar variáveis e ter acesso fácil a qualquer elemento da lista\n",
        "\n",
        "* Utilizadas para armazenar várias variáveis com funções parecidas\n",
        "\n",
        "* O primeiro valor tem índice 0. \n",
        "\n",
        "\n",
        "\n"
      ]
    },
    {
      "cell_type": "markdown",
      "metadata": {
        "id": "HWNh46lMl8gN"
      },
      "source": [
        "Para criar uma lista em Python declaramos da seguinte forma:\n",
        "\n",
        "```\n",
        "Lista = [valor1, valor2, ..., valorN]\n",
        "```"
      ]
    },
    {
      "cell_type": "code",
      "metadata": {
        "colab": {
          "base_uri": "https://localhost:8080/"
        },
        "id": "kyajAAh1ZgWS",
        "outputId": "5567b66b-0d45-464d-db9e-8c1dc4e50fbf"
      },
      "source": [
        "Lista = [9, [5, 6, 7], 'python', 12.3,  ('x', 21), 'teste']\n",
        "\n",
        "print(Lista)"
      ],
      "execution_count": null,
      "outputs": [
        {
          "output_type": "stream",
          "name": "stdout",
          "text": [
            "[9, [5, 6, 7], 'python', 12.3, ('x', 21), 'teste']\n"
          ]
        }
      ]
    },
    {
      "cell_type": "markdown",
      "metadata": {
        "id": "Y8CmpiE-aclw"
      },
      "source": [
        "Para criar uma lista com valores de intervalo utilizamos as funções list() e range()\n",
        "\n",
        "* range(n) -> gera um intervalo de 0 a n-1\n",
        "* range(i, n) -> gera um intervalo de i a n-1\n",
        "* range(i, n, p) -> gera um intervalo de i a n-1 com intervalo p entre os números"
      ]
    },
    {
      "cell_type": "code",
      "metadata": {
        "colab": {
          "base_uri": "https://localhost:8080/"
        },
        "id": "ZesFJJmhauLj",
        "outputId": "3f6ee72c-264d-4328-a3a5-b7d90e1a2f7a"
      },
      "source": [
        "Lista1 = list(range(6))\n",
        "\n",
        "print(Lista1)"
      ],
      "execution_count": null,
      "outputs": [
        {
          "output_type": "stream",
          "name": "stdout",
          "text": [
            "[0, 1, 2, 3, 4, 5]\n"
          ]
        }
      ]
    },
    {
      "cell_type": "code",
      "metadata": {
        "colab": {
          "base_uri": "https://localhost:8080/"
        },
        "id": "VEUbvnGGaww2",
        "outputId": "d69722a5-d97e-4d1a-b6b1-21aa652ed3a1"
      },
      "source": [
        "Lista2 = list(range(2,10))\n",
        "\n",
        "print(Lista2)"
      ],
      "execution_count": null,
      "outputs": [
        {
          "output_type": "stream",
          "name": "stdout",
          "text": [
            "[2, 3, 4, 5, 6, 7, 8, 9]\n"
          ]
        }
      ]
    },
    {
      "cell_type": "code",
      "metadata": {
        "colab": {
          "base_uri": "https://localhost:8080/"
        },
        "id": "c-yWOnHRazq9",
        "outputId": "3e8bd4c0-18b7-4f97-f877-b1ccc4eb0bd0"
      },
      "source": [
        "Lista3 = list(range(2,12,2))\n",
        "\n",
        "print(Lista3) "
      ],
      "execution_count": null,
      "outputs": [
        {
          "output_type": "stream",
          "name": "stdout",
          "text": [
            "[2, 4, 6, 8, 10]\n"
          ]
        }
      ]
    },
    {
      "cell_type": "markdown",
      "metadata": {
        "id": "EowrNQRma8Ia"
      },
      "source": [
        "Fazer uma atribuição de valor através do índice "
      ]
    },
    {
      "cell_type": "code",
      "metadata": {
        "colab": {
          "base_uri": "https://localhost:8080/"
        },
        "id": "cqmu-fa4bJSV",
        "outputId": "8f6318ef-5924-4106-de57-8fc21c568a1b"
      },
      "source": [
        "Lista = [9, [5,6,7], 'python', 12.3, ('x', 21), 'teste']\n",
        "\n",
        "Lista[5] = 'aula'\n",
        "\n",
        "print(Lista)"
      ],
      "execution_count": null,
      "outputs": [
        {
          "output_type": "stream",
          "name": "stdout",
          "text": [
            "[9, [5, 6, 7], 'python', 12.3, ('x', 21), 'aula']\n"
          ]
        }
      ]
    },
    {
      "cell_type": "code",
      "metadata": {
        "colab": {
          "base_uri": "https://localhost:8080/",
          "height": 163
        },
        "id": "MElcAlgpby6q",
        "outputId": "90d7a867-682b-4ccd-8895-ba72f0416056"
      },
      "source": [
        "Lista[6] = 'noite'"
      ],
      "execution_count": null,
      "outputs": [
        {
          "output_type": "error",
          "ename": "IndexError",
          "evalue": "ignored",
          "traceback": [
            "\u001b[0;31m---------------------------------------------------------------------------\u001b[0m",
            "\u001b[0;31mIndexError\u001b[0m                                Traceback (most recent call last)",
            "\u001b[0;32m<ipython-input-3-29106ae94e2a>\u001b[0m in \u001b[0;36m<module>\u001b[0;34m()\u001b[0m\n\u001b[0;32m----> 1\u001b[0;31m \u001b[0mLista\u001b[0m\u001b[0;34m[\u001b[0m\u001b[0;36m6\u001b[0m\u001b[0;34m]\u001b[0m \u001b[0;34m=\u001b[0m \u001b[0;34m'noite'\u001b[0m\u001b[0;34m\u001b[0m\u001b[0;34m\u001b[0m\u001b[0m\n\u001b[0m",
            "\u001b[0;31mIndexError\u001b[0m: list assignment index out of range"
          ]
        }
      ]
    },
    {
      "cell_type": "markdown",
      "metadata": {
        "id": "A2BOr5-fb8MT"
      },
      "source": [
        "*Métodos para manipular strings:*"
      ]
    },
    {
      "cell_type": "markdown",
      "metadata": {
        "id": "SkfDHLEscH9o"
      },
      "source": [
        "* Retornar o tamanho da lista -> len()"
      ]
    },
    {
      "cell_type": "code",
      "metadata": {
        "colab": {
          "base_uri": "https://localhost:8080/"
        },
        "id": "0k_ufcTZcRW5",
        "outputId": "dea8467d-46c9-49e3-8b5d-37df52a27228"
      },
      "source": [
        "Lista = [1,2,3,4,5]\n",
        "len(Lista)\n"
      ],
      "execution_count": null,
      "outputs": [
        {
          "output_type": "execute_result",
          "data": {
            "text/plain": [
              "5"
            ]
          },
          "metadata": {},
          "execution_count": 4
        }
      ]
    },
    {
      "cell_type": "markdown",
      "metadata": {
        "id": "H1X3AeDrcUKH"
      },
      "source": [
        "* Retornar o menor valor da lista -> min()"
      ]
    },
    {
      "cell_type": "code",
      "metadata": {
        "colab": {
          "base_uri": "https://localhost:8080/"
        },
        "id": "gz3NUauycYRB",
        "outputId": "f8642f71-2d16-4375-b4ff-e5d5cae23fc6"
      },
      "source": [
        "lista = [21,10,19,4,16]\n",
        "min(lista)"
      ],
      "execution_count": null,
      "outputs": [
        {
          "output_type": "execute_result",
          "data": {
            "text/plain": [
              "4"
            ]
          },
          "metadata": {},
          "execution_count": 5
        }
      ]
    },
    {
      "cell_type": "markdown",
      "metadata": {
        "id": "gI031oi8ca3m"
      },
      "source": [
        "* Retornar o maior valor da lista ->  max()"
      ]
    },
    {
      "cell_type": "code",
      "metadata": {
        "colab": {
          "base_uri": "https://localhost:8080/"
        },
        "id": "P281IPQeceoJ",
        "outputId": "6d944ef6-4458-46e4-b969-2a86d9ae4773"
      },
      "source": [
        "lista = [21,10,19,4,16]\n",
        "max(lista)"
      ],
      "execution_count": null,
      "outputs": [
        {
          "output_type": "execute_result",
          "data": {
            "text/plain": [
              "21"
            ]
          },
          "metadata": {},
          "execution_count": 6
        }
      ]
    },
    {
      "cell_type": "markdown",
      "metadata": {
        "id": "bn_D3OW9chDj"
      },
      "source": [
        "* Retornar a soma dos elementos da lista -> sum()"
      ]
    },
    {
      "cell_type": "code",
      "metadata": {
        "colab": {
          "base_uri": "https://localhost:8080/"
        },
        "id": "6PNTii2ZckxA",
        "outputId": "082c81ab-322c-4b36-efc9-9eeffadb7186"
      },
      "source": [
        "lista = [21,10,19,4,16]\n",
        "sum(lista)"
      ],
      "execution_count": null,
      "outputs": [
        {
          "output_type": "execute_result",
          "data": {
            "text/plain": [
              "70"
            ]
          },
          "metadata": {},
          "execution_count": 7
        }
      ]
    },
    {
      "cell_type": "markdown",
      "metadata": {
        "id": "abBfyOSbcpc_"
      },
      "source": [
        "* Adicionar um novo valor na no final da lista -> append()"
      ]
    },
    {
      "cell_type": "code",
      "metadata": {
        "colab": {
          "base_uri": "https://localhost:8080/"
        },
        "id": "RcOMlWhUctTo",
        "outputId": "c6788415-cf13-4e9e-b57a-bca197aa2718"
      },
      "source": [
        "lista = [21,10,19,4,16]\n",
        "lista.append(30)\n",
        "\n",
        "print(lista)"
      ],
      "execution_count": null,
      "outputs": [
        {
          "output_type": "stream",
          "name": "stdout",
          "text": [
            "[21, 10, 19, 4, 16, 30]\n"
          ]
        }
      ]
    },
    {
      "cell_type": "markdown",
      "metadata": {
        "id": "DWo-B3uLcxHe"
      },
      "source": [
        "* Inserir uma lista no final de outra lista -> extend()"
      ]
    },
    {
      "cell_type": "code",
      "metadata": {
        "colab": {
          "base_uri": "https://localhost:8080/"
        },
        "id": "Df5LhID3c4MF",
        "outputId": "68d0e933-c85f-41e1-b420-5b2417caa1a6"
      },
      "source": [
        "lista = [1,2,3,4,5]\n",
        "lista.extend([6,7,8,9,10])\n",
        "\n",
        "print(lista)"
      ],
      "execution_count": null,
      "outputs": [
        {
          "output_type": "stream",
          "name": "stdout",
          "text": [
            "[1, 2, 3, 4, 5, 6, 7, 8, 9, 10]\n"
          ]
        }
      ]
    },
    {
      "cell_type": "markdown",
      "metadata": {
        "id": "Xg36a6cgc779"
      },
      "source": [
        "* Remover um elemento da lista informamos seu índice -> del"
      ]
    },
    {
      "cell_type": "code",
      "metadata": {
        "colab": {
          "base_uri": "https://localhost:8080/"
        },
        "id": "0UBnI6EddBRK",
        "outputId": "967a8b20-c43d-408b-b501-112e94864969"
      },
      "source": [
        "lista = [1,2,3,4,5]\n",
        "del lista[2]\n",
        "\n",
        "print(lista)"
      ],
      "execution_count": null,
      "outputs": [
        {
          "output_type": "stream",
          "name": "stdout",
          "text": [
            "[1, 2, 4, 5]\n"
          ]
        }
      ]
    },
    {
      "cell_type": "markdown",
      "metadata": {
        "id": "CPNXbJYrdHiA"
      },
      "source": [
        "* Verificar se um valor pertence à lista -> in"
      ]
    },
    {
      "cell_type": "code",
      "metadata": {
        "colab": {
          "base_uri": "https://localhost:8080/"
        },
        "id": "dC8ROU-5dNLf",
        "outputId": "c591556b-7b19-403f-81d2-b41b0ab8db29"
      },
      "source": [
        "lista = [1,2,3,4,5]\n",
        "2 in lista"
      ],
      "execution_count": null,
      "outputs": [
        {
          "output_type": "execute_result",
          "data": {
            "text/plain": [
              "True"
            ]
          },
          "metadata": {},
          "execution_count": 11
        }
      ]
    }
  ]
}