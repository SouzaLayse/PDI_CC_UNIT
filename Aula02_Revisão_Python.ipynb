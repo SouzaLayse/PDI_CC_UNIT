{
  "nbformat": 4,
  "nbformat_minor": 0,
  "metadata": {
    "colab": {
      "name": "Aula02 - Revisão Python.ipynb",
      "provenance": [],
      "collapsed_sections": [],
      "include_colab_link": true
    },
    "kernelspec": {
      "name": "python3",
      "display_name": "Python 3"
    },
    "language_info": {
      "name": "python"
    }
  },
  "cells": [
    {
      "cell_type": "markdown",
      "metadata": {
        "id": "view-in-github",
        "colab_type": "text"
      },
      "source": [
        "<a href=\"https://colab.research.google.com/github/SouzaLayse/PDI_CC_UNIT/blob/main/Aula02_Revis%C3%A3o_Python.ipynb\" target=\"_parent\"><img src=\"https://colab.research.google.com/assets/colab-badge.svg\" alt=\"Open In Colab\"/></a>"
      ]
    },
    {
      "cell_type": "markdown",
      "source": [
        "**UNIT - Curso de Computação**\n",
        "\n",
        "Processamento de Imagens de Computação Gráfica\n",
        "\n",
        "Profª. Layse Santos Souza\n",
        "\n"
      ],
      "metadata": {
        "id": "VweLx_AKaSwq"
      }
    },
    {
      "cell_type": "markdown",
      "metadata": {
        "id": "koB5rJEEDqcB"
      },
      "source": [
        "### **Aula 02 - Python Basics**"
      ]
    },
    {
      "cell_type": "markdown",
      "metadata": {
        "id": "n4mwLWsoDsqe"
      },
      "source": [
        "# **LISTAS**"
      ]
    },
    {
      "cell_type": "markdown",
      "metadata": {
        "id": "0zX9YKctD27d"
      },
      "source": [
        "Um conjunto de valores ou variáveis (estrutura sequencial indexada)\n",
        "\n",
        "* Cada valor é identificado por meio de um índice\n",
        "\n",
        "* Pode conter variáveis de tipos diferentes, ou também outras listas\n",
        "\n",
        "* Organiza variáveis \n",
        "\n",
        "* Acesso fácil a qualquer elemento da lista\n",
        "\n",
        "* Utilizadas para armazenar várias variáveis com funções parecidas\n",
        "\n",
        "* O primeiro valor tem índice 0"
      ]
    },
    {
      "cell_type": "markdown",
      "metadata": {
        "id": "pByY8PdaICjn"
      },
      "source": [
        "Para criar uma lista declaramos da seguinte forma:\n",
        "\n",
        "```\n",
        "Lista = [valor1, valor2, ..., valorN]\n",
        "```"
      ]
    },
    {
      "cell_type": "code",
      "metadata": {
        "colab": {
          "base_uri": "https://localhost:8080/"
        },
        "id": "T9Dlgedd-PJP",
        "outputId": "d544dac6-cf39-4886-eaf6-9f75158b8f68"
      },
      "source": [
        "Lista = [9, [5, 6, 7], 'python', 12.3,  ('x', 21), 'teste']\n",
        "\n",
        "print(Lista)"
      ],
      "execution_count": null,
      "outputs": [
        {
          "output_type": "stream",
          "name": "stdout",
          "text": [
            "[9, [5, 6, 7], 'python', 12.3, ('x', 21), 'teste']\n"
          ]
        }
      ]
    },
    {
      "cell_type": "markdown",
      "metadata": {
        "id": "tGGgnrQxKSMd"
      },
      "source": [
        "Para verificar o valor de cada índice da lista "
      ]
    },
    {
      "cell_type": "code",
      "metadata": {
        "colab": {
          "base_uri": "https://localhost:8080/"
        },
        "id": "YJNDJ8cLKQSj",
        "outputId": "38821f42-85f7-4955-ed84-e147f52bee8b"
      },
      "source": [
        "print(Lista[0])"
      ],
      "execution_count": null,
      "outputs": [
        {
          "output_type": "stream",
          "name": "stdout",
          "text": [
            "9\n"
          ]
        }
      ]
    },
    {
      "cell_type": "code",
      "metadata": {
        "colab": {
          "base_uri": "https://localhost:8080/"
        },
        "id": "4jxajEfsKxng",
        "outputId": "b2e72b18-bf16-483b-985b-afc47782f687"
      },
      "source": [
        "print(Lista[1])"
      ],
      "execution_count": null,
      "outputs": [
        {
          "output_type": "stream",
          "name": "stdout",
          "text": [
            "[5, 6, 7]\n"
          ]
        }
      ]
    },
    {
      "cell_type": "code",
      "metadata": {
        "colab": {
          "base_uri": "https://localhost:8080/"
        },
        "id": "MF_IQDdqK0K_",
        "outputId": "88df0aac-091c-43cc-c6d5-0fd7556dc630"
      },
      "source": [
        "print(Lista[2])"
      ],
      "execution_count": null,
      "outputs": [
        {
          "output_type": "stream",
          "name": "stdout",
          "text": [
            "python\n"
          ]
        }
      ]
    },
    {
      "cell_type": "code",
      "metadata": {
        "colab": {
          "base_uri": "https://localhost:8080/"
        },
        "id": "iU2Srkm1LLeX",
        "outputId": "f93c8347-5e80-447a-9b8a-28337c8efc48"
      },
      "source": [
        "print(Lista[3])"
      ],
      "execution_count": null,
      "outputs": [
        {
          "output_type": "stream",
          "name": "stdout",
          "text": [
            "12.3\n"
          ]
        }
      ]
    },
    {
      "cell_type": "code",
      "metadata": {
        "colab": {
          "base_uri": "https://localhost:8080/"
        },
        "id": "00paIpfeLNeS",
        "outputId": "db1f9610-f12c-484c-8ed1-c2df1ed33284"
      },
      "source": [
        "print(Lista[4])"
      ],
      "execution_count": null,
      "outputs": [
        {
          "output_type": "stream",
          "name": "stdout",
          "text": [
            "('x', 21)\n"
          ]
        }
      ]
    },
    {
      "cell_type": "code",
      "metadata": {
        "colab": {
          "base_uri": "https://localhost:8080/"
        },
        "id": "V5PecxyILPQF",
        "outputId": "d4daec9d-544f-4bbf-a4f5-45ccbf121eba"
      },
      "source": [
        "print(Lista[5])"
      ],
      "execution_count": null,
      "outputs": [
        {
          "output_type": "stream",
          "name": "stdout",
          "text": [
            "teste\n"
          ]
        }
      ]
    },
    {
      "cell_type": "markdown",
      "metadata": {
        "id": "D0m7c3JRL5sc"
      },
      "source": [
        "Para criar uma lista com valores de intervalo utilizamos as funções list() e range()"
      ]
    },
    {
      "cell_type": "markdown",
      "metadata": {
        "id": "VgdR1EqWMKer"
      },
      "source": [
        "A função range() pode ser: \n",
        "\n",
        "* range(n) -> gera um intervalo de 0 a n-1\n",
        "\n",
        "* range(i, n) -> gera um intervalo de i a n-1\n",
        "\n",
        "* range(i, n, p) -> gera um intervalo de i a n-1 com intervalo p entre os números"
      ]
    },
    {
      "cell_type": "code",
      "metadata": {
        "colab": {
          "base_uri": "https://localhost:8080/"
        },
        "id": "r141Mv6GLQrU",
        "outputId": "e98d0313-4528-46d5-8a53-1d5ade9aeb7d"
      },
      "source": [
        "Lista1 = list(range(6))\n",
        "print(Lista1)"
      ],
      "execution_count": null,
      "outputs": [
        {
          "output_type": "stream",
          "name": "stdout",
          "text": [
            "[0, 1, 2, 3, 4, 5]\n"
          ]
        }
      ]
    },
    {
      "cell_type": "code",
      "metadata": {
        "colab": {
          "base_uri": "https://localhost:8080/"
        },
        "id": "Id4mIAu2OdfI",
        "outputId": "ea412059-ea60-49b0-940a-1db479479cfa"
      },
      "source": [
        "Lista2 = list(range(2,10))\n",
        "print(Lista2)"
      ],
      "execution_count": null,
      "outputs": [
        {
          "output_type": "stream",
          "name": "stdout",
          "text": [
            "[2, 3, 4, 5, 6, 7, 8, 9]\n"
          ]
        }
      ]
    },
    {
      "cell_type": "code",
      "metadata": {
        "colab": {
          "base_uri": "https://localhost:8080/"
        },
        "id": "4n5atCZ-O7o2",
        "outputId": "8c86abe8-a4ee-4c67-ae86-aaac58db509b"
      },
      "source": [
        "Lista3 = list(range(2,12,2))\n",
        "print(Lista3) "
      ],
      "execution_count": null,
      "outputs": [
        {
          "output_type": "stream",
          "name": "stdout",
          "text": [
            "[2, 4, 6, 8, 10]\n"
          ]
        }
      ]
    },
    {
      "cell_type": "markdown",
      "metadata": {
        "id": "yiBzmD0gQFbu"
      },
      "source": [
        "Fazer uma atribuição de valor através do índice "
      ]
    },
    {
      "cell_type": "code",
      "metadata": {
        "colab": {
          "base_uri": "https://localhost:8080/"
        },
        "id": "cwhXhFD8QGDs",
        "outputId": "ded11e0b-4b3f-4951-8f22-e1fdb5eda809"
      },
      "source": [
        "Lista = [9, [5,6,7], 'python', 12.3, ('x', 21), 'teste']\n",
        "\n",
        "Lista[5] = 'aula'\n",
        "\n",
        "print(Lista)"
      ],
      "execution_count": null,
      "outputs": [
        {
          "output_type": "stream",
          "name": "stdout",
          "text": [
            "[9, [5, 6, 7], 'python', 12.3, ('x', 21), 'aula']\n"
          ]
        }
      ]
    },
    {
      "cell_type": "code",
      "metadata": {
        "colab": {
          "base_uri": "https://localhost:8080/",
          "height": 163
        },
        "id": "5lHXROd_Qz6a",
        "outputId": "31a772f1-793f-4cf0-c878-680eaf75c027"
      },
      "source": [
        "Lista[6] = 'noite'"
      ],
      "execution_count": null,
      "outputs": [
        {
          "output_type": "error",
          "ename": "IndexError",
          "evalue": "ignored",
          "traceback": [
            "\u001b[0;31m---------------------------------------------------------------------------\u001b[0m",
            "\u001b[0;31mIndexError\u001b[0m                                Traceback (most recent call last)",
            "\u001b[0;32m<ipython-input-12-29106ae94e2a>\u001b[0m in \u001b[0;36m<module>\u001b[0;34m()\u001b[0m\n\u001b[0;32m----> 1\u001b[0;31m \u001b[0mLista\u001b[0m\u001b[0;34m[\u001b[0m\u001b[0;36m6\u001b[0m\u001b[0;34m]\u001b[0m \u001b[0;34m=\u001b[0m \u001b[0;34m'noite'\u001b[0m\u001b[0;34m\u001b[0m\u001b[0;34m\u001b[0m\u001b[0m\n\u001b[0m",
            "\u001b[0;31mIndexError\u001b[0m: list assignment index out of range"
          ]
        }
      ]
    },
    {
      "cell_type": "markdown",
      "metadata": {
        "id": "Gq0Kw79eQ1Vu"
      },
      "source": [
        "*Métodos para manipular strings:*"
      ]
    },
    {
      "cell_type": "markdown",
      "metadata": {
        "id": "Amy11ctoRIrE"
      },
      "source": [
        "* Retornar o tamanho da lista -> len()"
      ]
    },
    {
      "cell_type": "code",
      "metadata": {
        "colab": {
          "base_uri": "https://localhost:8080/"
        },
        "id": "Mwm8pvCKRLu3",
        "outputId": "89785810-ddae-460b-e3e6-9875ec1d665e"
      },
      "source": [
        "Lista = [1,2,3,4,5]\n",
        "len(Lista)"
      ],
      "execution_count": null,
      "outputs": [
        {
          "output_type": "execute_result",
          "data": {
            "text/plain": [
              "5"
            ]
          },
          "metadata": {},
          "execution_count": 13
        }
      ]
    },
    {
      "cell_type": "markdown",
      "metadata": {
        "id": "Jfb2pwdnYOZy"
      },
      "source": [
        "* Retornar o menor valor da lista -> min()"
      ]
    },
    {
      "cell_type": "code",
      "metadata": {
        "colab": {
          "base_uri": "https://localhost:8080/"
        },
        "id": "4eTHUiQCYpjf",
        "outputId": "c89392c9-6fde-403b-cea2-5572344cee0b"
      },
      "source": [
        "lista = [21,10,19,4,16]\n",
        "min(lista)"
      ],
      "execution_count": null,
      "outputs": [
        {
          "output_type": "execute_result",
          "data": {
            "text/plain": [
              "4"
            ]
          },
          "metadata": {},
          "execution_count": 14
        }
      ]
    },
    {
      "cell_type": "markdown",
      "metadata": {
        "id": "7UHoCjguZ10Z"
      },
      "source": [
        "* Retornar o maior valor da lista ->  max()"
      ]
    },
    {
      "cell_type": "code",
      "metadata": {
        "colab": {
          "base_uri": "https://localhost:8080/"
        },
        "id": "PhitQTTuZ2VT",
        "outputId": "c4832107-54e6-4c8b-c0fc-e847712d3596"
      },
      "source": [
        "lista = [21,10,19,4,16]\n",
        "max(lista)"
      ],
      "execution_count": null,
      "outputs": [
        {
          "output_type": "execute_result",
          "data": {
            "text/plain": [
              "21"
            ]
          },
          "metadata": {},
          "execution_count": 15
        }
      ]
    },
    {
      "cell_type": "markdown",
      "metadata": {
        "id": "_bydzP-waYAW"
      },
      "source": [
        "* Retornar a soma dos elementos da lista -> sum()"
      ]
    },
    {
      "cell_type": "code",
      "metadata": {
        "colab": {
          "base_uri": "https://localhost:8080/"
        },
        "id": "tR2caxvTaYPf",
        "outputId": "c0ce2e4c-8293-492f-fa67-fdc51a6baee8"
      },
      "source": [
        "lista = [21,10,19,4,16]\n",
        "sum(lista)"
      ],
      "execution_count": null,
      "outputs": [
        {
          "output_type": "execute_result",
          "data": {
            "text/plain": [
              "70"
            ]
          },
          "metadata": {},
          "execution_count": 17
        }
      ]
    },
    {
      "cell_type": "markdown",
      "metadata": {
        "id": "IWYTlUD4a4Dw"
      },
      "source": [
        "* Adicionar um novo valor na no final da lista -> append()"
      ]
    },
    {
      "cell_type": "code",
      "metadata": {
        "colab": {
          "base_uri": "https://localhost:8080/"
        },
        "id": "NywUpDyBa4Q5",
        "outputId": "7c87c1b9-9342-4a93-8908-436c9549b864"
      },
      "source": [
        "lista = [21,10,19,4,16]\n",
        "lista.append(30)\n",
        "\n",
        "print(lista)"
      ],
      "execution_count": null,
      "outputs": [
        {
          "output_type": "stream",
          "name": "stdout",
          "text": [
            "[21, 10, 19, 4, 16, 30]\n"
          ]
        }
      ]
    },
    {
      "cell_type": "markdown",
      "metadata": {
        "id": "lqZHGNMta-W0"
      },
      "source": [
        "* Inserir uma lista no final de outra lista -> extend()"
      ]
    },
    {
      "cell_type": "code",
      "metadata": {
        "colab": {
          "base_uri": "https://localhost:8080/"
        },
        "id": "V6zjY6tYbiWi",
        "outputId": "59179296-f4fb-4203-a88f-4a71e0f77935"
      },
      "source": [
        "lista = [1,2,3,4,5]\n",
        "lista.extend([6,7,8,9,10])\n",
        "\n",
        "print(lista)"
      ],
      "execution_count": null,
      "outputs": [
        {
          "output_type": "stream",
          "name": "stdout",
          "text": [
            "[1, 2, 3, 4, 5, 6, 7, 8, 9, 10]\n"
          ]
        }
      ]
    },
    {
      "cell_type": "markdown",
      "metadata": {
        "id": "O7hQwErSeXWc"
      },
      "source": [
        "* Remover um elemento da lista informamos seu índice -> del"
      ]
    },
    {
      "cell_type": "code",
      "metadata": {
        "colab": {
          "base_uri": "https://localhost:8080/"
        },
        "id": "X9opplkqeZcw",
        "outputId": "566420a9-3dac-4a58-e575-cee032e0d585"
      },
      "source": [
        "lista = [1,2,3,4,5]\n",
        "del lista[2]\n",
        "\n",
        "print(lista)"
      ],
      "execution_count": null,
      "outputs": [
        {
          "output_type": "stream",
          "name": "stdout",
          "text": [
            "[1, 2, 4, 5]\n"
          ]
        }
      ]
    },
    {
      "cell_type": "markdown",
      "metadata": {
        "id": "9Nu_J7BQe2JF"
      },
      "source": [
        "* Verificar se um valor pertence à lista -> in"
      ]
    },
    {
      "cell_type": "code",
      "metadata": {
        "colab": {
          "base_uri": "https://localhost:8080/"
        },
        "id": "VVqI-8jle2Sl",
        "outputId": "d3642183-fbd3-4246-c271-c195836c2202"
      },
      "source": [
        "lista = [1,2,3,4,5]\n",
        "2 in lista"
      ],
      "execution_count": null,
      "outputs": [
        {
          "output_type": "execute_result",
          "data": {
            "text/plain": [
              "True"
            ]
          },
          "metadata": {},
          "execution_count": 22
        }
      ]
    },
    {
      "cell_type": "code",
      "metadata": {
        "id": "L3i_HE4vf1Cs",
        "colab": {
          "base_uri": "https://localhost:8080/"
        },
        "outputId": "3f3c5e40-ddf1-45d9-8443-9604faa2ba0c"
      },
      "source": [
        "6 in lista"
      ],
      "execution_count": null,
      "outputs": [
        {
          "output_type": "execute_result",
          "data": {
            "text/plain": [
              "False"
            ]
          },
          "metadata": {},
          "execution_count": 23
        }
      ]
    },
    {
      "cell_type": "markdown",
      "metadata": {
        "id": "o5DHBxq67eOM"
      },
      "source": [
        "\n",
        "\n",
        "*   Inserir elementos em posições específicas da lista -> insert()\n",
        "\n",
        "\n"
      ]
    },
    {
      "cell_type": "code",
      "metadata": {
        "colab": {
          "base_uri": "https://localhost:8080/"
        },
        "id": "aRbDXO-780pE",
        "outputId": "48a3a57f-e487-469e-8382-b4935dff8bc0"
      },
      "source": [
        "lista = ['L','G','R']\n",
        "lista.insert(1,'U')\n",
        "lista.insert(3,'A')\n",
        "\n",
        "print(lista)"
      ],
      "execution_count": null,
      "outputs": [
        {
          "output_type": "stream",
          "name": "stdout",
          "text": [
            "['L', 'U', 'G', 'A', 'R']\n"
          ]
        }
      ]
    },
    {
      "cell_type": "markdown",
      "metadata": {
        "id": "vLnib1iM98O_"
      },
      "source": [
        "\n",
        "\n",
        "*   Remover elementos em uma lista -> remove()\n",
        "\n",
        "\n"
      ]
    },
    {
      "cell_type": "code",
      "metadata": {
        "colab": {
          "base_uri": "https://localhost:8080/"
        },
        "id": "osV8Xv14-x95",
        "outputId": "a8382fb7-d629-48ab-fe2c-6141abed7e04"
      },
      "source": [
        "lista = ['U','V','A']\n",
        "lista.remove('U')\n",
        "\n",
        "print(lista)"
      ],
      "execution_count": null,
      "outputs": [
        {
          "output_type": "stream",
          "name": "stdout",
          "text": [
            "['V', 'A']\n"
          ]
        }
      ]
    },
    {
      "cell_type": "markdown",
      "metadata": {
        "id": "KDTABcv5_HVP"
      },
      "source": [
        "* Ordenar em ordem crescente -> sort() "
      ]
    },
    {
      "cell_type": "code",
      "metadata": {
        "colab": {
          "base_uri": "https://localhost:8080/"
        },
        "id": "cGTQ39x9_UR7",
        "outputId": "38cce8f6-5903-471a-e20f-76b310956159"
      },
      "source": [
        "lista = [21,10,19,4,30,16]\n",
        "lista.sort()\n",
        "\n",
        "print(lista)"
      ],
      "execution_count": null,
      "outputs": [
        {
          "output_type": "stream",
          "name": "stdout",
          "text": [
            "[4, 10, 16, 19, 21, 30]\n"
          ]
        }
      ]
    },
    {
      "cell_type": "markdown",
      "metadata": {
        "id": "bpRPCrQmAwcI"
      },
      "source": [
        "* Ordenar uma cópia de uma lista -> sorted()"
      ]
    },
    {
      "cell_type": "code",
      "metadata": {
        "colab": {
          "base_uri": "https://localhost:8080/"
        },
        "id": "22I9wlOLBApX",
        "outputId": "a1797588-6513-430b-f91c-1c03056283fb"
      },
      "source": [
        "lista = [-5,7,2,18,21,10]\n",
        "print (lista)"
      ],
      "execution_count": null,
      "outputs": [
        {
          "output_type": "stream",
          "name": "stdout",
          "text": [
            "[-5, 7, 2, 18, 21, 10]\n"
          ]
        }
      ]
    },
    {
      "cell_type": "code",
      "metadata": {
        "colab": {
          "base_uri": "https://localhost:8080/"
        },
        "id": "BeN6E-ekBRGg",
        "outputId": "226c4224-bc2d-4fdd-fad8-dc7cd4860eb9"
      },
      "source": [
        "listaCopia = sorted(lista)\n",
        "print(listaCopia)"
      ],
      "execution_count": null,
      "outputs": [
        {
          "output_type": "stream",
          "name": "stdout",
          "text": [
            "[-5, 2, 7, 10, 18, 21]\n"
          ]
        }
      ]
    },
    {
      "cell_type": "code",
      "metadata": {
        "colab": {
          "base_uri": "https://localhost:8080/"
        },
        "id": "hu0nTFI0-Nc1",
        "outputId": "c4301c9e-f957-43da-94c4-40d0c2ee6d00"
      },
      "source": [
        "print('Lista original:', lista)\n",
        "print('Lista copiada:', listaCopia)"
      ],
      "execution_count": null,
      "outputs": [
        {
          "output_type": "stream",
          "name": "stdout",
          "text": [
            "Lista original: [-5, 7, 2, 18, 21, 10]\n",
            "Lista copiada: [-5, 2, 7, 10, 18, 21]\n"
          ]
        }
      ]
    },
    {
      "cell_type": "markdown",
      "metadata": {
        "id": "1IweIwklCKWD"
      },
      "source": [
        "* Inverter os elementos de uma lista (ordem decrescente) -> reverse()"
      ]
    },
    {
      "cell_type": "code",
      "metadata": {
        "colab": {
          "base_uri": "https://localhost:8080/"
        },
        "id": "pWwxQFY39aFs",
        "outputId": "98580974-e159-4e4b-febd-9d6f9ab08d25"
      },
      "source": [
        "lista = [1,2,3,4,5,6,7,8,9,10]\n",
        "lista.reverse()\n",
        "\n",
        "print(lista)"
      ],
      "execution_count": null,
      "outputs": [
        {
          "output_type": "stream",
          "name": "stdout",
          "text": [
            "[10, 9, 8, 7, 6, 5, 4, 3, 2, 1]\n"
          ]
        }
      ]
    },
    {
      "cell_type": "markdown",
      "metadata": {
        "id": "9iTvIiF3DGNN"
      },
      "source": [
        "* Copíar uma lista sem manter a referência entre elas -> [:]"
      ]
    },
    {
      "cell_type": "code",
      "metadata": {
        "colab": {
          "base_uri": "https://localhost:8080/"
        },
        "id": "ykiIf-uNDU0T",
        "outputId": "c7d4da10-1823-48db-8a61-2d3e1979e5cd"
      },
      "source": [
        "lista_a = [1,2,3,4]\n",
        "lista_b = lista_a [:]\n",
        "\n",
        "print('Lista a:', lista_a)\n",
        "print('Lista b:', lista_b)"
      ],
      "execution_count": null,
      "outputs": [
        {
          "output_type": "stream",
          "name": "stdout",
          "text": [
            "Lista a: [1, 2, 3, 4]\n",
            "Lista b: [1, 2, 3, 4]\n"
          ]
        }
      ]
    },
    {
      "cell_type": "markdown",
      "metadata": {
        "id": "WtIgeLArEVgs"
      },
      "source": [
        "* Extrair apenas uma parte dos elementos da lista utilizamos o limite inferior e e limite superior -1 \n",
        "\n",
        "```\n",
        "lista[limite_inferior : limite_superior -1]\n",
        "```\n",
        "\n"
      ]
    },
    {
      "cell_type": "code",
      "metadata": {
        "colab": {
          "base_uri": "https://localhost:8080/"
        },
        "id": "G86Cquo0E_1k",
        "outputId": "6ab6a63f-98cf-494c-d895-4df6ef03ce10"
      },
      "source": [
        "lista = [9,[5,6,7], 'python',12.3,('x',21),'teste']\n",
        "\n",
        "print(lista)"
      ],
      "execution_count": null,
      "outputs": [
        {
          "output_type": "stream",
          "name": "stdout",
          "text": [
            "[9, [5, 6, 7], 'python', 12.3, ('x', 21), 'teste']\n"
          ]
        }
      ]
    },
    {
      "cell_type": "code",
      "metadata": {
        "colab": {
          "base_uri": "https://localhost:8080/"
        },
        "id": "j9iyJikKFnWb",
        "outputId": "1aeae8ef-b900-4d95-aa57-89bf03d857bc"
      },
      "source": [
        "lista[1:4]"
      ],
      "execution_count": null,
      "outputs": [
        {
          "output_type": "execute_result",
          "data": {
            "text/plain": [
              "[[5, 6, 7], 'python', 12.3]"
            ]
          },
          "metadata": {},
          "execution_count": 12
        }
      ]
    },
    {
      "cell_type": "code",
      "metadata": {
        "colab": {
          "base_uri": "https://localhost:8080/"
        },
        "id": "19RjJC4DFpma",
        "outputId": "a5800598-99b3-4d63-fa13-1217205d0665"
      },
      "source": [
        "lista[2:]"
      ],
      "execution_count": null,
      "outputs": [
        {
          "output_type": "execute_result",
          "data": {
            "text/plain": [
              "['python', 12.3, ('x', 21), 'teste']"
            ]
          },
          "metadata": {},
          "execution_count": 13
        }
      ]
    },
    {
      "cell_type": "code",
      "metadata": {
        "colab": {
          "base_uri": "https://localhost:8080/"
        },
        "id": "O5cSq2y8FrWv",
        "outputId": "c820efdf-17e7-417d-e0f7-e7306016cfa2"
      },
      "source": [
        "lista[ :4]"
      ],
      "execution_count": null,
      "outputs": [
        {
          "output_type": "execute_result",
          "data": {
            "text/plain": [
              "[9, [5, 6, 7], 'python', 12.3]"
            ]
          },
          "metadata": {},
          "execution_count": 14
        }
      ]
    },
    {
      "cell_type": "markdown",
      "metadata": {
        "id": "dQ2xxRcsF98X"
      },
      "source": [
        "* Concatenar listas (+)"
      ]
    },
    {
      "cell_type": "code",
      "metadata": {
        "colab": {
          "base_uri": "https://localhost:8080/"
        },
        "id": "gXTT-0vCGFup",
        "outputId": "caa5e271-a7a4-40df-abd8-7f3d864ba888"
      },
      "source": [
        "a = [0,1,2]\n",
        "b = [3,4,5]\n",
        "c = [6,7,8]\n",
        "\n",
        "lista = a + b + c\n",
        "\n",
        "print(lista)"
      ],
      "execution_count": null,
      "outputs": [
        {
          "output_type": "stream",
          "name": "stdout",
          "text": [
            "[0, 1, 2, 3, 4, 5, 6, 7, 8]\n"
          ]
        }
      ]
    },
    {
      "cell_type": "markdown",
      "metadata": {
        "id": "ocLNSSuLGa3p"
      },
      "source": [
        "* Repetir listas (*)\n"
      ]
    },
    {
      "cell_type": "code",
      "metadata": {
        "colab": {
          "base_uri": "https://localhost:8080/"
        },
        "id": "GpqUNh7RGlJV",
        "outputId": "8bbd0f71-0dba-4e62-f34a-dfc830d562ff"
      },
      "source": [
        "lista = (1,2,3,4)\n",
        "repetirLista = lista * 3\n",
        "\n",
        "print (repetirLista)"
      ],
      "execution_count": null,
      "outputs": [
        {
          "output_type": "stream",
          "name": "stdout",
          "text": [
            "(1, 2, 3, 4, 1, 2, 3, 4, 1, 2, 3, 4)\n"
          ]
        }
      ]
    },
    {
      "cell_type": "markdown",
      "metadata": {
        "id": "bU5IQEaXJd_8"
      },
      "source": [
        "* Converter uma string em uma lista -> list()"
      ]
    },
    {
      "cell_type": "code",
      "metadata": {
        "colab": {
          "base_uri": "https://localhost:8080/"
        },
        "id": "nV7MC4yVJfet",
        "outputId": "f9585a20-ad12-449a-a12b-2fac77962914"
      },
      "source": [
        "lista = list('Qualquer lugar')\n",
        "\n",
        "print(lista)"
      ],
      "execution_count": null,
      "outputs": [
        {
          "output_type": "stream",
          "name": "stdout",
          "text": [
            "['Q', 'u', 'a', 'l', 'q', 'u', 'e', 'r', ' ', 'l', 'u', 'g', 'a', 'r']\n"
          ]
        }
      ]
    },
    {
      "cell_type": "markdown",
      "metadata": {
        "id": "xi_3C69IJ0Kn"
      },
      "source": [
        "* Converter uma lista em uma string -> join()"
      ]
    },
    {
      "cell_type": "code",
      "metadata": {
        "colab": {
          "base_uri": "https://localhost:8080/"
        },
        "id": "KVXPEn8CJ0dA",
        "outputId": "c40dde33-c510-497a-dbf6-b0bc10eca73d"
      },
      "source": [
        "lista = ['a', 'r', 'a', 'r', 'a']\n",
        "\n",
        "print(''.join(lista))"
      ],
      "execution_count": null,
      "outputs": [
        {
          "output_type": "stream",
          "name": "stdout",
          "text": [
            "arara\n"
          ]
        }
      ]
    },
    {
      "cell_type": "markdown",
      "metadata": {
        "id": "LdFVo7LfDyAF"
      },
      "source": [
        "# **TUPLAS**"
      ]
    },
    {
      "cell_type": "markdown",
      "metadata": {
        "id": "rplvH-FND3Z_"
      },
      "source": [
        "* Conjunto sequencial de valores, onde cada valor é identificada através de um índice\n",
        "\n",
        "```\n",
        "tupla = (valor1 , valor2, ..., valorN)\n",
        "```\n",
        "\n"
      ]
    },
    {
      "cell_type": "code",
      "metadata": {
        "colab": {
          "base_uri": "https://localhost:8080/"
        },
        "id": "6c39Fqfon-Z6",
        "outputId": "d738df06-a26c-4ff2-c8e5-aef4894a3446"
      },
      "source": [
        "tupla = (1,2,3,4,5,6,7,8,9,10)\n",
        "\n",
        "print(tupla)"
      ],
      "execution_count": null,
      "outputs": [
        {
          "output_type": "stream",
          "name": "stdout",
          "text": [
            "(1, 2, 3, 4, 5, 6, 7, 8, 9, 10)\n"
          ]
        }
      ]
    },
    {
      "cell_type": "code",
      "metadata": {
        "id": "zb7SH1NdD2Hb",
        "colab": {
          "base_uri": "https://localhost:8080/"
        },
        "outputId": "1698723f-f0b7-4e8c-e292-22cf44e57193"
      },
      "source": [
        "print(tupla[4])"
      ],
      "execution_count": null,
      "outputs": [
        {
          "output_type": "stream",
          "name": "stdout",
          "text": [
            "5\n"
          ]
        }
      ]
    },
    {
      "cell_type": "markdown",
      "metadata": {
        "id": "B4p391nsoxoX"
      },
      "source": [
        "* Atribuir os elementos armazenados em uma tupla a diversas variáveis"
      ]
    },
    {
      "cell_type": "code",
      "metadata": {
        "colab": {
          "base_uri": "https://localhost:8080/"
        },
        "id": "Kg9LTaabpMDX",
        "outputId": "907e212d-0d69-4900-ef03-ebd90beec436"
      },
      "source": [
        "tupla = (17, 11, 19, 10, 28)\n",
        "a, b, c, d, e = tupla\n",
        "\n",
        "print(tupla)"
      ],
      "execution_count": null,
      "outputs": [
        {
          "output_type": "stream",
          "name": "stdout",
          "text": [
            "(17, 11, 19, 10, 28)\n"
          ]
        }
      ]
    },
    {
      "cell_type": "code",
      "metadata": {
        "id": "xtWoDkKlt_nQ",
        "colab": {
          "base_uri": "https://localhost:8080/"
        },
        "outputId": "3f9c5d47-0cd2-4e16-c397-71f5045e68fa"
      },
      "source": [
        "print('a =', a)"
      ],
      "execution_count": null,
      "outputs": [
        {
          "output_type": "stream",
          "name": "stdout",
          "text": [
            "a = 17\n"
          ]
        }
      ]
    },
    {
      "cell_type": "code",
      "metadata": {
        "colab": {
          "base_uri": "https://localhost:8080/"
        },
        "id": "ONzgSvEVqAK1",
        "outputId": "9b9bc64e-d555-4e74-d556-924e17155f11"
      },
      "source": [
        "print('b =', b)"
      ],
      "execution_count": null,
      "outputs": [
        {
          "output_type": "stream",
          "name": "stdout",
          "text": [
            "b = 11\n"
          ]
        }
      ]
    },
    {
      "cell_type": "code",
      "metadata": {
        "colab": {
          "base_uri": "https://localhost:8080/"
        },
        "id": "h9-azJEHqGIk",
        "outputId": "0d9dd430-fa08-47a4-822f-b52d966dcb4e"
      },
      "source": [
        "print('c =', c)"
      ],
      "execution_count": null,
      "outputs": [
        {
          "output_type": "stream",
          "name": "stdout",
          "text": [
            "c = 19\n"
          ]
        }
      ]
    },
    {
      "cell_type": "code",
      "metadata": {
        "colab": {
          "base_uri": "https://localhost:8080/"
        },
        "id": "H2Ufj_S_qL0C",
        "outputId": "bbc2b199-157f-4c44-e56f-a94c425442eb"
      },
      "source": [
        "print('d =', d)"
      ],
      "execution_count": null,
      "outputs": [
        {
          "output_type": "stream",
          "name": "stdout",
          "text": [
            "d = 10\n"
          ]
        }
      ]
    },
    {
      "cell_type": "code",
      "metadata": {
        "colab": {
          "base_uri": "https://localhost:8080/"
        },
        "id": "bLMavmX7qWTH",
        "outputId": "2fdc0511-a9ce-4d85-9e0f-c9bab9f650a2"
      },
      "source": [
        "print('e =', e)"
      ],
      "execution_count": null,
      "outputs": [
        {
          "output_type": "stream",
          "name": "stdout",
          "text": [
            "e = 28\n"
          ]
        }
      ]
    },
    {
      "cell_type": "code",
      "metadata": {
        "colab": {
          "base_uri": "https://localhost:8080/"
        },
        "id": "fIWNcsoHF5hU",
        "outputId": "09775c92-f2d0-4f2d-ca66-f8ff6b8bb773"
      },
      "source": [
        "print('a + b =', a+b)"
      ],
      "execution_count": null,
      "outputs": [
        {
          "output_type": "stream",
          "name": "stdout",
          "text": [
            "a + b = 28\n"
          ]
        }
      ]
    },
    {
      "cell_type": "markdown",
      "metadata": {
        "id": "w_JRsunFD4Ud"
      },
      "source": [
        "# **DICIONÁRIOS**"
      ]
    },
    {
      "cell_type": "markdown",
      "metadata": {
        "id": "70tB-Vv0D8F7"
      },
      "source": [
        "* Conjunto de valores, onde cada valor é associado a uma chave de acesso\n",
        "\n",
        "\n",
        "```\n",
        "Dicionario = {chave1:valor1,\n",
        "              chave2:valor2,\n",
        "                   ...\n",
        "              chaveN:valorN}\n",
        "```\n",
        "\n"
      ]
    },
    {
      "cell_type": "markdown",
      "metadata": {
        "id": "k6r_5Zv5lckS"
      },
      "source": [
        "**EXEMPLO:** Notas de alunos"
      ]
    },
    {
      "cell_type": "code",
      "metadata": {
        "colab": {
          "base_uri": "https://localhost:8080/"
        },
        "id": "6EXz933mn2us",
        "outputId": "b1f61660-067a-49af-a7f7-ecab64d8788b"
      },
      "source": [
        "dicionario_notas = {'José': 6.5, 'Maria': 10, 'João': 4.5 , 'Ana': 9.5}\n",
        "\n",
        "print(dicionario_notas)"
      ],
      "execution_count": null,
      "outputs": [
        {
          "output_type": "stream",
          "name": "stdout",
          "text": [
            "{'José': 6.5, 'Maria': 10, 'João': 4.5, 'Ana': 9.5}\n"
          ]
        }
      ]
    },
    {
      "cell_type": "code",
      "metadata": {
        "id": "9BN9Q1PunpkV",
        "colab": {
          "base_uri": "https://localhost:8080/"
        },
        "outputId": "bdc37c82-fbd8-4e90-a0ed-95aed0b2424e"
      },
      "source": [
        "print(dicionario_notas['Maria'])"
      ],
      "execution_count": null,
      "outputs": [
        {
          "output_type": "stream",
          "name": "stdout",
          "text": [
            "10\n"
          ]
        }
      ]
    },
    {
      "cell_type": "markdown",
      "metadata": {
        "id": "gFMbqrowId0E"
      },
      "source": [
        "* Para modificar valores no dicionario informamos a chave \n",
        "* Para acrescentar informamos a chave e o valor"
      ]
    },
    {
      "cell_type": "code",
      "metadata": {
        "colab": {
          "base_uri": "https://localhost:8080/"
        },
        "id": "LZNvRchHomLh",
        "outputId": "1146eb9a-0f6a-4b08-f70b-483de6df6f42"
      },
      "source": [
        "dicionario_notas = {'José': 6.5, 'Maria': 10, 'João': 4.5 , 'Ana': 9.5}\n",
        "\n",
        "dicionario_notas['José'] = 8.5\n",
        "dicionario_notas['Pedro'] = 6.5\n",
        "\n",
        "print(dicionario_notas)"
      ],
      "execution_count": null,
      "outputs": [
        {
          "output_type": "stream",
          "name": "stdout",
          "text": [
            "{'José': 8.5, 'Maria': 10, 'João': 4.5, 'Ana': 9.5, 'Pedro': 6.5}\n"
          ]
        }
      ]
    },
    {
      "cell_type": "markdown",
      "metadata": {
        "id": "YBq7xLWBpXt3"
      },
      "source": [
        "* Excluir um item informado a chave -> del"
      ]
    },
    {
      "cell_type": "code",
      "metadata": {
        "id": "qtYpkA1npUvl",
        "colab": {
          "base_uri": "https://localhost:8080/"
        },
        "outputId": "c2a710d7-d39a-4927-fb9b-727ba1fa40da"
      },
      "source": [
        "dicionario_notas = {'José': 6.5, 'Maria': 10, 'João': 4.5 , 'Ana': 9.5}\n",
        "\n",
        "del dicionario_notas['João']\n",
        "\n",
        "print(dicionario_notas)"
      ],
      "execution_count": null,
      "outputs": [
        {
          "output_type": "stream",
          "name": "stdout",
          "text": [
            "{'José': 6.5, 'Maria': 10, 'Ana': 9.5}\n"
          ]
        }
      ]
    },
    {
      "cell_type": "markdown",
      "metadata": {
        "id": "RhquBi9os75h"
      },
      "source": [
        "* Verificar se uma chave existe no dicionário -> in"
      ]
    },
    {
      "cell_type": "code",
      "metadata": {
        "colab": {
          "base_uri": "https://localhost:8080/"
        },
        "id": "1JNc_8xjssdv",
        "outputId": "66df13e7-42de-495b-a29d-5f66e9fdb4fb"
      },
      "source": [
        "dicionario_notas = {'José': 6.5, 'Maria': 10, 'João': 4.5 , 'Ana': 9.5}\n",
        "\n",
        "'Maria' in dicionario_notas"
      ],
      "execution_count": null,
      "outputs": [
        {
          "output_type": "execute_result",
          "data": {
            "text/plain": [
              "True"
            ]
          },
          "metadata": {},
          "execution_count": 21
        }
      ]
    },
    {
      "cell_type": "code",
      "metadata": {
        "colab": {
          "base_uri": "https://localhost:8080/"
        },
        "id": "ARmPDrPQs1Nv",
        "outputId": "d09593c8-f8ae-43b8-8a26-c34fe8280464"
      },
      "source": [
        "dicionario_notas = {'José': 6.5, 'Maria': 10, 'João': 4.5 , 'Ana': 9.5}\n",
        "'Pedro' in dicionario_notas"
      ],
      "execution_count": null,
      "outputs": [
        {
          "output_type": "execute_result",
          "data": {
            "text/plain": [
              "False"
            ]
          },
          "metadata": {},
          "execution_count": 22
        }
      ]
    },
    {
      "cell_type": "markdown",
      "metadata": {
        "id": "vvi_KUA7tupQ"
      },
      "source": [
        "* Obter chaves de um dicionário -> keys()"
      ]
    },
    {
      "cell_type": "code",
      "metadata": {
        "colab": {
          "base_uri": "https://localhost:8080/"
        },
        "id": "Otc8Kymqt3vb",
        "outputId": "82b8b7f8-0cf0-43f5-cb0b-d41fd7013d10"
      },
      "source": [
        "dicionario_notas = {'José': 6.5, 'Maria': 10, 'João': 4.5 , 'Ana': 9.5}\n",
        "\n",
        "dicionario_notas.keys()"
      ],
      "execution_count": null,
      "outputs": [
        {
          "output_type": "execute_result",
          "data": {
            "text/plain": [
              "dict_keys(['José', 'Maria', 'João', 'Ana'])"
            ]
          },
          "metadata": {},
          "execution_count": 24
        }
      ]
    },
    {
      "cell_type": "markdown",
      "metadata": {
        "id": "ylQKXggsuZvY"
      },
      "source": [
        "* Obter os valores de um dicionário -> values()"
      ]
    },
    {
      "cell_type": "code",
      "metadata": {
        "colab": {
          "base_uri": "https://localhost:8080/"
        },
        "id": "cJD8sKI8ujLZ",
        "outputId": "d99dadfa-377e-4175-feec-df6150e01bcd"
      },
      "source": [
        "dicionario_notas = {'José': 6.5, 'Maria': 10, 'João': 4.5 , 'Ana': 9.5}\n",
        "\n",
        "dicionario_notas.values()"
      ],
      "execution_count": null,
      "outputs": [
        {
          "output_type": "execute_result",
          "data": {
            "text/plain": [
              "dict_values([6.5, 10, 4.5, 9.5])"
            ]
          },
          "metadata": {},
          "execution_count": 26
        }
      ]
    },
    {
      "cell_type": "markdown",
      "metadata": {
        "id": "oASPpC6ou9Bw"
      },
      "source": [
        "* Retornar um outro dicionário com as mesmas chaves e valores de um dicionário -> copy()"
      ]
    },
    {
      "cell_type": "code",
      "metadata": {
        "colab": {
          "base_uri": "https://localhost:8080/"
        },
        "id": "RU_9y10ovPcU",
        "outputId": "ce4cb78a-9a53-4fe3-fb7a-693e8cb449fe"
      },
      "source": [
        "dicionario_notas = {'José': 6.5, 'Maria': 10, 'João': 4.5 , 'Ana': 9.5}\n",
        "print(dicionario_notas)"
      ],
      "execution_count": null,
      "outputs": [
        {
          "output_type": "stream",
          "name": "stdout",
          "text": [
            "{'José': 6.5, 'Maria': 10, 'João': 4.5, 'Ana': 9.5}\n"
          ]
        }
      ]
    },
    {
      "cell_type": "code",
      "metadata": {
        "colab": {
          "base_uri": "https://localhost:8080/"
        },
        "id": "g6ZO3_EtvZeT",
        "outputId": "fface4bf-3763-46fa-a9c3-61529cd894f1"
      },
      "source": [
        "dicionario = dicionario_notas.copy()\n",
        "print(dicionario)"
      ],
      "execution_count": null,
      "outputs": [
        {
          "output_type": "stream",
          "name": "stdout",
          "text": [
            "{'José': 6.5, 'Maria': 10, 'João': 4.5, 'Ana': 9.5}\n"
          ]
        }
      ]
    },
    {
      "cell_type": "markdown",
      "metadata": {
        "id": "eQDcNryKvi3y"
      },
      "source": [
        "* Atualizar um dicionário com os elementos de outro dicionário -> update()"
      ]
    },
    {
      "cell_type": "code",
      "metadata": {
        "colab": {
          "base_uri": "https://localhost:8080/"
        },
        "id": "SDNxzpYCvtmO",
        "outputId": "e6d49533-9749-43fd-977f-0fad23e5c09c"
      },
      "source": [
        "dicionario_notas = {'José': 6.5, 'Maria': 10, 'João': 4.5 , 'Ana': 9.5}\n",
        "print(dicionario_notas)"
      ],
      "execution_count": null,
      "outputs": [
        {
          "output_type": "stream",
          "name": "stdout",
          "text": [
            "{'José': 6.5, 'Maria': 10, 'João': 4.5, 'Ana': 9.5}\n"
          ]
        }
      ]
    },
    {
      "cell_type": "code",
      "metadata": {
        "colab": {
          "base_uri": "https://localhost:8080/"
        },
        "id": "fRVH1qQtv066",
        "outputId": "b3e8b41d-84ee-455e-a20a-afa2191d191c"
      },
      "source": [
        "dicionario_novosAlunos = {'Pedro':8.5, 'Carla':7.5}\n",
        "print(dicionario_novosAlunos)"
      ],
      "execution_count": null,
      "outputs": [
        {
          "output_type": "stream",
          "name": "stdout",
          "text": [
            "{'Pedro': 8.5, 'Carla': 7.5}\n"
          ]
        }
      ]
    },
    {
      "cell_type": "code",
      "metadata": {
        "colab": {
          "base_uri": "https://localhost:8080/"
        },
        "id": "wYjNg3VowJw7",
        "outputId": "376fa89a-efd9-4177-842d-ef9f11bd1859"
      },
      "source": [
        "dicionario_notas.update(dicionario_novosAlunos)\n",
        "print(dicionario_notas)"
      ],
      "execution_count": null,
      "outputs": [
        {
          "output_type": "stream",
          "name": "stdout",
          "text": [
            "{'José': 6.5, 'Maria': 10, 'João': 4.5, 'Ana': 9.5, 'Pedro': 8.5, 'Carla': 7.5}\n"
          ]
        }
      ]
    },
    {
      "cell_type": "markdown",
      "metadata": {
        "id": "yWGqMTiZ2F2X"
      },
      "source": [
        "* Remover todos os elementos do dicionário -> clear()"
      ]
    },
    {
      "cell_type": "code",
      "metadata": {
        "colab": {
          "base_uri": "https://localhost:8080/"
        },
        "id": "aH6CSE002K0X",
        "outputId": "a118036a-ebe2-4786-8462-27d4c198b1e4"
      },
      "source": [
        "x = {'X':1, 'Y':2, 'Z':3}\n",
        "\n",
        "print(x)"
      ],
      "execution_count": null,
      "outputs": [
        {
          "output_type": "stream",
          "name": "stdout",
          "text": [
            "{'X': 1, 'Y': 2, 'Z': 3}\n"
          ]
        }
      ]
    },
    {
      "cell_type": "code",
      "metadata": {
        "colab": {
          "base_uri": "https://localhost:8080/"
        },
        "id": "94EQvwEE2NfU",
        "outputId": "31346bc1-bd0e-4722-f773-921fd2971217"
      },
      "source": [
        "x.clear()\n",
        "\n",
        "print(x)"
      ],
      "execution_count": null,
      "outputs": [
        {
          "output_type": "stream",
          "name": "stdout",
          "text": [
            "{}\n"
          ]
        }
      ]
    },
    {
      "cell_type": "markdown",
      "metadata": {
        "id": "IK-esQc5wZHM"
      },
      "source": [
        "* Os valores podem ser de diferentes tipos"
      ]
    },
    {
      "cell_type": "code",
      "metadata": {
        "id": "21_WN84hw0Rz"
      },
      "source": [
        "dicionario = {1:'a', 4:[1,2,3],8:('x','y','z'),2:11.49}"
      ],
      "execution_count": null,
      "outputs": []
    },
    {
      "cell_type": "code",
      "metadata": {
        "colab": {
          "base_uri": "https://localhost:8080/"
        },
        "id": "PIdsJxu0xC_Z",
        "outputId": "883f851a-f0c6-4820-d1a5-c912d801c5b3"
      },
      "source": [
        "print(dicionario)"
      ],
      "execution_count": null,
      "outputs": [
        {
          "output_type": "stream",
          "name": "stdout",
          "text": [
            "{1: 'a', 4: [1, 2, 3], 8: ('x', 'y', 'z'), 2: 11.49}\n"
          ]
        }
      ]
    },
    {
      "cell_type": "code",
      "metadata": {
        "colab": {
          "base_uri": "https://localhost:8080/"
        },
        "id": "ELD5BFKWxHaG",
        "outputId": "569719c5-63ec-4cf4-88cf-cdab7ace5842"
      },
      "source": [
        "print(dicionario[1])"
      ],
      "execution_count": null,
      "outputs": [
        {
          "output_type": "stream",
          "name": "stdout",
          "text": [
            "a\n"
          ]
        }
      ]
    },
    {
      "cell_type": "code",
      "metadata": {
        "colab": {
          "base_uri": "https://localhost:8080/"
        },
        "id": "iRFviC5ixQIm",
        "outputId": "2380941f-a1b3-4a27-9da1-496437555cfa"
      },
      "source": [
        "print(dicionario[4])"
      ],
      "execution_count": null,
      "outputs": [
        {
          "output_type": "stream",
          "name": "stdout",
          "text": [
            "[1, 2, 3]\n"
          ]
        }
      ]
    },
    {
      "cell_type": "code",
      "metadata": {
        "colab": {
          "base_uri": "https://localhost:8080/"
        },
        "id": "KBwT-9DExT4L",
        "outputId": "5bfab2ef-8b19-4465-9cbc-7b2275ae60f6"
      },
      "source": [
        "print(dicionario[8])"
      ],
      "execution_count": null,
      "outputs": [
        {
          "output_type": "stream",
          "name": "stdout",
          "text": [
            "('x', 'y', 'z')\n"
          ]
        }
      ]
    },
    {
      "cell_type": "code",
      "metadata": {
        "id": "570SYXpyxZA6",
        "colab": {
          "base_uri": "https://localhost:8080/"
        },
        "outputId": "fc138dcc-bf33-40df-8d60-b868eaaf7484"
      },
      "source": [
        "print(dicionario[2])"
      ],
      "execution_count": null,
      "outputs": [
        {
          "output_type": "stream",
          "name": "stdout",
          "text": [
            "11.49\n"
          ]
        }
      ]
    },
    {
      "cell_type": "markdown",
      "metadata": {
        "id": "rVqbP4w8D_Lc"
      },
      "source": [
        "# **ESTRUTURAS DE DECISÃO**\n",
        "\n",
        "\n",
        "\n"
      ]
    },
    {
      "cell_type": "markdown",
      "metadata": {
        "id": "AQtuu4qRx93i"
      },
      "source": [
        "\n",
        "Alteram o curso de fluxo de execução de um programa\n",
        "\n",
        "```\n",
        "if (se)\n",
        "if ... else (se ... então)\n",
        "if ... elif (se ... senão ... senão se)\n",
        "```"
      ]
    },
    {
      "cell_type": "markdown",
      "metadata": {
        "id": "QfI7uQ_N5ytJ"
      },
      "source": [
        "* **IF** -> condição para o trecho do código que será executado tenha o valor da condição se for verdadeiro\n",
        "\n",
        "```\n",
        "if<condição>:\n",
        "  <comandos da condição verdadeira>\n",
        "```\n",
        "\n"
      ]
    },
    {
      "cell_type": "markdown",
      "metadata": {
        "id": "_-RIvkuF6KIc"
      },
      "source": [
        "**Exemplo:** Criar um programa onde o usuário informa a idade e o programa retorna se o usuário pode dirigir"
      ]
    },
    {
      "cell_type": "code",
      "metadata": {
        "colab": {
          "base_uri": "https://localhost:8080/"
        },
        "id": "r-GlzNgy6hNz",
        "outputId": "80f66cff-b13c-4f3b-9216-42d5f3f3f4c1"
      },
      "source": [
        "idade = int(input(\"Informe sua idade: \"))\n",
        "if idade < 18:\n",
        "   print(\"Você ainda não pode dirigir!\")"
      ],
      "execution_count": null,
      "outputs": [
        {
          "output_type": "stream",
          "name": "stdout",
          "text": [
            "Informe sua idade:  17\n",
            "Você ainda não pode dirigir!\n"
          ]
        }
      ]
    },
    {
      "cell_type": "markdown",
      "metadata": {
        "id": "O-1nyByt8It-"
      },
      "source": [
        "* **IF...ELSE** -> Condição para o trecho do código que será executado tenha o valor da primeira consição verdadeiro e a segunda condição falso\n",
        "\n",
        "```\n",
        "if<condição>:\n",
        "  <comandos da condição verdadeira>\n",
        "else:\n",
        "   <comandos da condição falsa>\n",
        "```\n",
        "\n"
      ]
    },
    {
      "cell_type": "markdown",
      "metadata": {
        "id": "rc5XcKmc8mGX"
      },
      "source": [
        "**Exemplo:** Criar um programa onde o usuário informa a idade e o programa retorna se o usuário pode dirigir"
      ]
    },
    {
      "cell_type": "code",
      "metadata": {
        "colab": {
          "base_uri": "https://localhost:8080/"
        },
        "id": "nkC2-pMf8yl0",
        "outputId": "685df18e-2805-4204-abe3-86aeb3c0842d"
      },
      "source": [
        "idade = int(input(\"Informe sua idade: \"))\n",
        "if idade < 18:\n",
        "    print(\"Você ainda não pode dirigir!\")\n",
        "else:\n",
        "    print(\"Parabéns! Você pode dirigir!\")"
      ],
      "execution_count": null,
      "outputs": [
        {
          "output_type": "stream",
          "name": "stdout",
          "text": [
            "Informe sua idade: 17\n",
            "Você ainda não pode dirigir!\n"
          ]
        }
      ]
    },
    {
      "cell_type": "code",
      "metadata": {
        "colab": {
          "base_uri": "https://localhost:8080/"
        },
        "id": "mwL7hEdT-W4-",
        "outputId": "758f77b6-fc04-405d-eba6-a3d5b2e6b6ff"
      },
      "source": [
        "idade = int(input(\"Informe sua idade: \"))\n",
        "if idade < 18:\n",
        "    print(\"Você ainda não pode dirigir!\")\n",
        "else:\n",
        "    print(\"Parabéns! Você pode dirigir!\")"
      ],
      "execution_count": null,
      "outputs": [
        {
          "output_type": "stream",
          "name": "stdout",
          "text": [
            "Informe sua idade: 20\n",
            "Parabéns! Você pode dirigir!\n"
          ]
        }
      ]
    },
    {
      "cell_type": "markdown",
      "metadata": {
        "id": "VGKq8FJ7_Avz"
      },
      "source": [
        "* **IF...ELIF...ELSE** -> Diversas condições, e cada condição está a associada a um trecho do código\n",
        "\n",
        "```\n",
        "if<condição1>:\n",
        "  <comandos1>\n",
        "elif<condição2>\n",
        "    <comandos2>\n",
        "     ...\n",
        "else:\n",
        "     <comandos default>\n",
        "```\n",
        "\n"
      ]
    },
    {
      "cell_type": "markdown",
      "metadata": {
        "id": "cb-LT-j_Ahmr"
      },
      "source": [
        "**Exemplo:** Criar um programa onde o usuário informa a idade e o programa retorna se o usuário pode dirigir"
      ]
    },
    {
      "cell_type": "code",
      "metadata": {
        "colab": {
          "base_uri": "https://localhost:8080/"
        },
        "id": "g6iqz-CGBKtD",
        "outputId": "8bb89b24-538e-47e7-cf3e-6ff596f7cdd1"
      },
      "source": [
        "idade = int(input(\"Informe sua idade: \"))\n",
        "if idade < 10:\n",
        "   print(\"Você ainda não pode dirigir. Você é uma criança!\")\n",
        "elif idade < 18:\n",
        "   print(\"Quando complentar 18 anos você vai poder dirigir!\")\n",
        "elif idade > 60:\n",
        "   print(\"Você está no melhor idade!\")\n",
        "else:\n",
        "   print(\"Parabéns! Você pode dirigir!\")"
      ],
      "execution_count": null,
      "outputs": [
        {
          "output_type": "stream",
          "name": "stdout",
          "text": [
            "Informe sua idade: 35\n",
            "Parabéns! Você pode dirigir!\n"
          ]
        }
      ]
    },
    {
      "cell_type": "markdown",
      "metadata": {
        "id": "bQBZq9OpEEV4"
      },
      "source": [
        "# **ESTRUTURAS DE REPETIÇÃO**"
      ]
    },
    {
      "cell_type": "markdown",
      "metadata": {
        "id": "Xy0GKVhREG8E"
      },
      "source": [
        "* Utilizadas para executar uma mesma sequência de comandos várias vezes\n",
        "\n",
        "* Essas estruturas também são conhecidas como laços ou loops\n",
        "\n",
        "* Estão associadas ou a uma condição ou a uma sequência de valores\n",
        "        \n",
        "      \n"
      ]
    },
    {
      "cell_type": "markdown",
      "metadata": {
        "id": "brMdrra70LuY"
      },
      "source": [
        "* ***Condição (while)*** -> o trecho de código da repetição está associado a uma condição\n",
        "\n",
        "Enquanto a condição tiver valor ***verdadeiro***, o trecho do ***código é executado***.\n",
        "\n",
        "Quando a condição passar a ter valor ***falso***, a ***repetição termina***.\n",
        "\n",
        "        while<condição>:\n",
        "             <comandos>"
      ]
    },
    {
      "cell_type": "markdown",
      "metadata": {
        "id": "y7D5IJZrhxOE"
      },
      "source": [
        "**Exemplo:** Verificar se a senha de acesso está correta"
      ]
    },
    {
      "cell_type": "code",
      "metadata": {
        "id": "toaf9-yosBgV",
        "colab": {
          "base_uri": "https://localhost:8080/"
        },
        "outputId": "2e094b4e-3434-4769-d9b9-5759ae2dd0f8"
      },
      "source": [
        "senha = '85246'\n",
        "leitura = ''\n",
        "while(leitura != senha):\n",
        "    leitura = input('Digite a senha: ')\n",
        "    if leitura == senha:\n",
        "           print('Acesso liberado!')\n",
        "    else:\n",
        "           print('Senha incorreta. Tente novamente!')"
      ],
      "execution_count": null,
      "outputs": [
        {
          "output_type": "stream",
          "name": "stdout",
          "text": [
            "Digite a senha: 1234\n",
            "Senha incorreta. Tente novamente!\n",
            "Digite a senha: 85246\n",
            "Acesso liberado!\n"
          ]
        }
      ]
    },
    {
      "cell_type": "markdown",
      "metadata": {
        "id": "bW5uR_DRjnFr"
      },
      "source": [
        "**Exemplo:** Encontrar a soma de 8 valores"
      ]
    },
    {
      "cell_type": "code",
      "metadata": {
        "id": "NXCT-gKrEHNe",
        "colab": {
          "base_uri": "https://localhost:8080/"
        },
        "outputId": "5ffdd7a4-cf77-4cac-a4ed-9e2e917d2549"
      },
      "source": [
        "contador = 0\n",
        "soma = 0\n",
        "\n",
        "while contador < 8:\n",
        "      contador = contador + 1\n",
        "      valor = float(input('Informe o '+ str(contador)+ 'º valor: ' ))\n",
        "      soma = soma + valor\n",
        "print('A soma é = ', soma)"
      ],
      "execution_count": null,
      "outputs": [
        {
          "output_type": "stream",
          "name": "stdout",
          "text": [
            "Informe o 1º valor: 11\n",
            "Informe o 2º valor: 29\n",
            "Informe o 3º valor: 18\n",
            "Informe o 4º valor: 2\n",
            "Informe o 5º valor: 56\n",
            "Informe o 6º valor: 43\n",
            "Informe o 7º valor: 77\n",
            "Informe o 8º valor: 90\n",
            "A soma é =  326.0\n"
          ]
        }
      ]
    },
    {
      "cell_type": "markdown",
      "metadata": {
        "id": "GclXdQJrlSsc"
      },
      "source": [
        "```\n",
        "* Condição (for) -> o trecho de código da repetição é execitado para cada valor da sequência numérica com range() ou da associação a uma lista.\n",
        "\n",
        "for<variável> in range (início, limite, passo):\n",
        "    <comandos>    \n",
        "\n",
        "for<variável> in <lista>:\n",
        "        <comandos>\n",
        "\n",
        "```\n",
        "\n"
      ]
    },
    {
      "cell_type": "markdown",
      "metadata": {
        "id": "0MSx3EK8mXfB"
      },
      "source": [
        "**Exemplo:** Encontar a soma de X= 1 + 5 + 9 + 13 + 17 + 21 + 25"
      ]
    },
    {
      "cell_type": "code",
      "metadata": {
        "colab": {
          "base_uri": "https://localhost:8080/"
        },
        "id": "cu_lSCn1mlfk",
        "outputId": "e1695256-8e3b-454a-8540-83a6d84d915d"
      },
      "source": [
        "X= 0\n",
        "for i in range(1,26,4):\n",
        "  X = X + i\n",
        "print('A soma é = ', X)"
      ],
      "execution_count": null,
      "outputs": [
        {
          "output_type": "stream",
          "name": "stdout",
          "text": [
            "A soma é =  91\n"
          ]
        }
      ]
    },
    {
      "cell_type": "markdown",
      "metadata": {
        "id": "RBUsibUDnAp1"
      },
      "source": [
        "**Exemplo:** Calcular a média das quatro notas de um aluno ( 4.3, 6.6, 8, 9.5)"
      ]
    },
    {
      "cell_type": "code",
      "metadata": {
        "colab": {
          "base_uri": "https://localhost:8080/"
        },
        "id": "DO5SYZaUnONn",
        "outputId": "a8f9d6f2-fc21-4322-dec6-0f6686378ee8"
      },
      "source": [
        "notas = [4.3,6.6,8,9.5]\n",
        "soma = 0\n",
        "\n",
        "for i in notas:\n",
        "  soma = soma + i\n",
        "media = soma/len(notas)\n",
        "print('A média das notas é: ', media)"
      ],
      "execution_count": null,
      "outputs": [
        {
          "output_type": "stream",
          "name": "stdout",
          "text": [
            "A média das notas é:  7.1\n"
          ]
        }
      ]
    },
    {
      "cell_type": "markdown",
      "metadata": {
        "id": "TVxwqrn8NQwb"
      },
      "source": [
        "\n",
        "\n",
        "> Comandos break e continue\n",
        "\n",
        "\n",
        "\n",
        "\n",
        "\n",
        "\n",
        "\n"
      ]
    },
    {
      "cell_type": "markdown",
      "metadata": {
        "id": "KqWGrr-58sfr"
      },
      "source": [
        "* Comando ***break*** -> pode ser utilizado tanto para for quanto para while"
      ]
    },
    {
      "cell_type": "markdown",
      "metadata": {
        "id": "AqENoSu1TTs9"
      },
      "source": [
        "**Exemplo:** Saber os números de 1 até 11 que são menores ou igual a 5"
      ]
    },
    {
      "cell_type": "code",
      "metadata": {
        "colab": {
          "base_uri": "https://localhost:8080/"
        },
        "id": "zuDeFJq-8u-C",
        "outputId": "9dc277a1-9b57-4e1c-e1d0-b81ec235d7b4"
      },
      "source": [
        "numero = 0\n",
        "\n",
        "for numero in range(1,12):\n",
        "     if (numero >= 5):\n",
        "         break\n",
        "     print(numero)\n",
        "print('Acabou!')"
      ],
      "execution_count": null,
      "outputs": [
        {
          "output_type": "stream",
          "name": "stdout",
          "text": [
            "1\n",
            "2\n",
            "3\n",
            "4\n",
            "Acabou!\n"
          ]
        }
      ]
    },
    {
      "cell_type": "markdown",
      "metadata": {
        "id": "S50GxlQTTbvY"
      },
      "source": [
        "**Exemplo:**  Saber se um número é igual a outro número"
      ]
    },
    {
      "cell_type": "code",
      "metadata": {
        "colab": {
          "base_uri": "https://localhost:8080/"
        },
        "id": "rPBiYIMT-t7r",
        "outputId": "256def38-524c-4174-802f-40a211726319"
      },
      "source": [
        "numero = 0\n",
        "\n",
        "while numero < 10:\n",
        "     print(numero)\n",
        "     numero = numero + 1\n",
        "     if numero == 7: \n",
        "        print('O número é igual a 7')\n",
        "        break\n",
        "print('Acabou!') "
      ],
      "execution_count": null,
      "outputs": [
        {
          "output_type": "stream",
          "name": "stdout",
          "text": [
            "0\n",
            "1\n",
            "2\n",
            "3\n",
            "4\n",
            "5\n",
            "6\n",
            "O número é igual a 7\n",
            "Acabou!\n"
          ]
        }
      ]
    },
    {
      "cell_type": "markdown",
      "metadata": {
        "id": "R8Kg799YEQbV"
      },
      "source": [
        "* Comando ***continue*** -> pode ser utilizado tanto com for quanto com while"
      ]
    },
    {
      "cell_type": "markdown",
      "metadata": {
        "id": "Cqy982FeVVbU"
      },
      "source": [
        "**Exemplo:** Saber os números de 1 até 11 que são menores ou igual a 5"
      ]
    },
    {
      "cell_type": "code",
      "metadata": {
        "colab": {
          "base_uri": "https://localhost:8080/"
        },
        "id": "KKKexxrFEg1T",
        "outputId": "031da51c-7c92-49de-f7af-e77ccc0164dc"
      },
      "source": [
        "numero = 1\n",
        "\n",
        "for numero in range(1,12):\n",
        "     if (numero >= 5):\n",
        "         continue\n",
        "     print(numero)\n",
        "print('Acabou!')"
      ],
      "execution_count": null,
      "outputs": [
        {
          "output_type": "stream",
          "name": "stdout",
          "text": [
            "1\n",
            "2\n",
            "3\n",
            "4\n",
            "Acabou!\n"
          ]
        }
      ]
    },
    {
      "cell_type": "markdown",
      "metadata": {
        "id": "S-uBIbmpVYGa"
      },
      "source": [
        "**Exemplo:**  Saber se um número é igual a outro número"
      ]
    },
    {
      "cell_type": "code",
      "metadata": {
        "colab": {
          "base_uri": "https://localhost:8080/"
        },
        "id": "zCDuabxUE352",
        "outputId": "ed2b8964-8f3d-4f6f-e47a-d3f2ce3656c7"
      },
      "source": [
        "numero = 1\n",
        "\n",
        "while numero <= 10:\n",
        "  if numero == 7: \n",
        "    numero = numero + 1\n",
        "    continue\n",
        "  print(numero)\n",
        "  numero = numero + 1\n",
        "print('Acabou!') "
      ],
      "execution_count": null,
      "outputs": [
        {
          "output_type": "stream",
          "name": "stdout",
          "text": [
            "1\n",
            "2\n",
            "3\n",
            "4\n",
            "5\n",
            "6\n",
            "8\n",
            "9\n",
            "10\n",
            "Acabou!\n"
          ]
        }
      ]
    }
  ]
}